{
 "cells": [
  {
   "cell_type": "markdown",
   "metadata": {},
   "source": [
    "# Import Libraries"
   ]
  },
  {
   "cell_type": "code",
   "execution_count": 2,
   "metadata": {},
   "outputs": [
    {
     "name": "stdout",
     "output_type": "stream",
     "text": [
      "Requirement already satisfied: openpyxl in c:\\users\\shann\\anaconda3\\envs\\pythondata\\lib\\site-packages (3.0.9)\n",
      "Requirement already satisfied: et-xmlfile in c:\\users\\shann\\anaconda3\\envs\\pythondata\\lib\\site-packages (from openpyxl) (1.1.0)\n"
     ]
    },
    {
     "name": "stderr",
     "output_type": "stream",
     "text": [
      "WARNING: pip is being invoked by an old script wrapper. This will fail in a future version of pip.\n",
      "Please see https://github.com/pypa/pip/issues/5599 for advice on fixing the underlying issue.\n",
      "To avoid this problem you can invoke Python with '-m pip' instead of running pip directly.\n"
     ]
    },
    {
     "ename": "ModuleNotFoundError",
     "evalue": "No module named 'config'",
     "output_type": "error",
     "traceback": [
      "\u001b[1;31m---------------------------------------------------------------------------\u001b[0m",
      "\u001b[1;31mModuleNotFoundError\u001b[0m                       Traceback (most recent call last)",
      "\u001b[1;32m<ipython-input-2-e4ec311b676e>\u001b[0m in \u001b[0;36m<module>\u001b[1;34m\u001b[0m\n\u001b[0;32m      9\u001b[0m \u001b[1;32mfrom\u001b[0m \u001b[0mscipy\u001b[0m\u001b[1;33m.\u001b[0m\u001b[0mstats\u001b[0m \u001b[1;32mimport\u001b[0m \u001b[0mlinregress\u001b[0m\u001b[1;33m\u001b[0m\u001b[1;33m\u001b[0m\u001b[0m\n\u001b[0;32m     10\u001b[0m \u001b[1;32mimport\u001b[0m \u001b[0mgmaps\u001b[0m\u001b[1;33m\u001b[0m\u001b[1;33m\u001b[0m\u001b[0m\n\u001b[1;32m---> 11\u001b[1;33m \u001b[1;32mfrom\u001b[0m \u001b[0mconfig\u001b[0m \u001b[1;32mimport\u001b[0m \u001b[0mgkey\u001b[0m\u001b[1;33m\u001b[0m\u001b[1;33m\u001b[0m\u001b[0m\n\u001b[0m\u001b[0;32m     12\u001b[0m \u001b[1;32mimport\u001b[0m \u001b[0mrequests\u001b[0m\u001b[1;33m\u001b[0m\u001b[1;33m\u001b[0m\u001b[0m\n\u001b[0;32m     13\u001b[0m \u001b[1;32mimport\u001b[0m \u001b[0mjson\u001b[0m\u001b[1;33m\u001b[0m\u001b[1;33m\u001b[0m\u001b[0m\n",
      "\u001b[1;31mModuleNotFoundError\u001b[0m: No module named 'config'"
     ]
    }
   ],
   "source": [
    "import pandas as pd\n",
    "\n",
    "import pip\n",
    "pip.main([\"install\", \"openpyxl\"])\n",
    "\n",
    "import matplotlib.pyplot as plt\n",
    "import numpy as np\n",
    "from scipy import stats\n",
    "from scipy.stats import linregress\n",
    "import gmaps \n",
    "from config import gkey\n",
    "import requests\n",
    "import json\n",
    "\n",
    "# Configure gmaps\n",
    "gmaps.configure(api_key=gkey)"
   ]
  },
  {
   "cell_type": "markdown",
   "metadata": {},
   "source": [
    "West Midlands crime data has already been merged (see 'data story so far.docx'). We had access to 12 CSV files with a months worth of 2019 data that we merged together. Read CSV and see dataframe."
   ]
  },
  {
   "cell_type": "code",
   "execution_count": 3,
   "metadata": {},
   "outputs": [
    {
     "ename": "FileNotFoundError",
     "evalue": "[Errno 2] No such file or directory: 'reduced_2019.csv'",
     "output_type": "error",
     "traceback": [
      "\u001b[1;31m---------------------------------------------------------------------------\u001b[0m",
      "\u001b[1;31mFileNotFoundError\u001b[0m                         Traceback (most recent call last)",
      "\u001b[1;32m<ipython-input-3-0493536f39b9>\u001b[0m in \u001b[0;36m<module>\u001b[1;34m\u001b[0m\n\u001b[1;32m----> 1\u001b[1;33m \u001b[0mdata\u001b[0m \u001b[1;33m=\u001b[0m \u001b[0mpd\u001b[0m\u001b[1;33m.\u001b[0m\u001b[0mread_csv\u001b[0m\u001b[1;33m(\u001b[0m\u001b[1;34m\"reduced_2019.csv\"\u001b[0m\u001b[1;33m)\u001b[0m\u001b[1;33m\u001b[0m\u001b[1;33m\u001b[0m\u001b[0m\n\u001b[0m\u001b[0;32m      2\u001b[0m \u001b[1;33m\u001b[0m\u001b[0m\n\u001b[0;32m      3\u001b[0m \u001b[0mdata_df\u001b[0m \u001b[1;33m=\u001b[0m \u001b[0mdata\u001b[0m\u001b[1;33m\u001b[0m\u001b[1;33m\u001b[0m\u001b[0m\n\u001b[0;32m      4\u001b[0m \u001b[1;33m\u001b[0m\u001b[0m\n\u001b[0;32m      5\u001b[0m \u001b[0mdata_df\u001b[0m\u001b[1;33m.\u001b[0m\u001b[0mhead\u001b[0m\u001b[1;33m(\u001b[0m\u001b[1;33m)\u001b[0m\u001b[1;33m\u001b[0m\u001b[1;33m\u001b[0m\u001b[0m\n",
      "\u001b[1;32m~\\anaconda3\\envs\\PythonData\\lib\\site-packages\\pandas\\util\\_decorators.py\u001b[0m in \u001b[0;36mwrapper\u001b[1;34m(*args, **kwargs)\u001b[0m\n\u001b[0;32m    309\u001b[0m                     \u001b[0mstacklevel\u001b[0m\u001b[1;33m=\u001b[0m\u001b[0mstacklevel\u001b[0m\u001b[1;33m,\u001b[0m\u001b[1;33m\u001b[0m\u001b[1;33m\u001b[0m\u001b[0m\n\u001b[0;32m    310\u001b[0m                 )\n\u001b[1;32m--> 311\u001b[1;33m             \u001b[1;32mreturn\u001b[0m \u001b[0mfunc\u001b[0m\u001b[1;33m(\u001b[0m\u001b[1;33m*\u001b[0m\u001b[0margs\u001b[0m\u001b[1;33m,\u001b[0m \u001b[1;33m**\u001b[0m\u001b[0mkwargs\u001b[0m\u001b[1;33m)\u001b[0m\u001b[1;33m\u001b[0m\u001b[1;33m\u001b[0m\u001b[0m\n\u001b[0m\u001b[0;32m    312\u001b[0m \u001b[1;33m\u001b[0m\u001b[0m\n\u001b[0;32m    313\u001b[0m         \u001b[1;32mreturn\u001b[0m \u001b[0mwrapper\u001b[0m\u001b[1;33m\u001b[0m\u001b[1;33m\u001b[0m\u001b[0m\n",
      "\u001b[1;32m~\\anaconda3\\envs\\PythonData\\lib\\site-packages\\pandas\\io\\parsers\\readers.py\u001b[0m in \u001b[0;36mread_csv\u001b[1;34m(filepath_or_buffer, sep, delimiter, header, names, index_col, usecols, squeeze, prefix, mangle_dupe_cols, dtype, engine, converters, true_values, false_values, skipinitialspace, skiprows, skipfooter, nrows, na_values, keep_default_na, na_filter, verbose, skip_blank_lines, parse_dates, infer_datetime_format, keep_date_col, date_parser, dayfirst, cache_dates, iterator, chunksize, compression, thousands, decimal, lineterminator, quotechar, quoting, doublequote, escapechar, comment, encoding, encoding_errors, dialect, error_bad_lines, warn_bad_lines, on_bad_lines, delim_whitespace, low_memory, memory_map, float_precision, storage_options)\u001b[0m\n\u001b[0;32m    584\u001b[0m     \u001b[0mkwds\u001b[0m\u001b[1;33m.\u001b[0m\u001b[0mupdate\u001b[0m\u001b[1;33m(\u001b[0m\u001b[0mkwds_defaults\u001b[0m\u001b[1;33m)\u001b[0m\u001b[1;33m\u001b[0m\u001b[1;33m\u001b[0m\u001b[0m\n\u001b[0;32m    585\u001b[0m \u001b[1;33m\u001b[0m\u001b[0m\n\u001b[1;32m--> 586\u001b[1;33m     \u001b[1;32mreturn\u001b[0m \u001b[0m_read\u001b[0m\u001b[1;33m(\u001b[0m\u001b[0mfilepath_or_buffer\u001b[0m\u001b[1;33m,\u001b[0m \u001b[0mkwds\u001b[0m\u001b[1;33m)\u001b[0m\u001b[1;33m\u001b[0m\u001b[1;33m\u001b[0m\u001b[0m\n\u001b[0m\u001b[0;32m    587\u001b[0m \u001b[1;33m\u001b[0m\u001b[0m\n\u001b[0;32m    588\u001b[0m \u001b[1;33m\u001b[0m\u001b[0m\n",
      "\u001b[1;32m~\\anaconda3\\envs\\PythonData\\lib\\site-packages\\pandas\\io\\parsers\\readers.py\u001b[0m in \u001b[0;36m_read\u001b[1;34m(filepath_or_buffer, kwds)\u001b[0m\n\u001b[0;32m    480\u001b[0m \u001b[1;33m\u001b[0m\u001b[0m\n\u001b[0;32m    481\u001b[0m     \u001b[1;31m# Create the parser.\u001b[0m\u001b[1;33m\u001b[0m\u001b[1;33m\u001b[0m\u001b[1;33m\u001b[0m\u001b[0m\n\u001b[1;32m--> 482\u001b[1;33m     \u001b[0mparser\u001b[0m \u001b[1;33m=\u001b[0m \u001b[0mTextFileReader\u001b[0m\u001b[1;33m(\u001b[0m\u001b[0mfilepath_or_buffer\u001b[0m\u001b[1;33m,\u001b[0m \u001b[1;33m**\u001b[0m\u001b[0mkwds\u001b[0m\u001b[1;33m)\u001b[0m\u001b[1;33m\u001b[0m\u001b[1;33m\u001b[0m\u001b[0m\n\u001b[0m\u001b[0;32m    483\u001b[0m \u001b[1;33m\u001b[0m\u001b[0m\n\u001b[0;32m    484\u001b[0m     \u001b[1;32mif\u001b[0m \u001b[0mchunksize\u001b[0m \u001b[1;32mor\u001b[0m \u001b[0miterator\u001b[0m\u001b[1;33m:\u001b[0m\u001b[1;33m\u001b[0m\u001b[1;33m\u001b[0m\u001b[0m\n",
      "\u001b[1;32m~\\anaconda3\\envs\\PythonData\\lib\\site-packages\\pandas\\io\\parsers\\readers.py\u001b[0m in \u001b[0;36m__init__\u001b[1;34m(self, f, engine, **kwds)\u001b[0m\n\u001b[0;32m    809\u001b[0m             \u001b[0mself\u001b[0m\u001b[1;33m.\u001b[0m\u001b[0moptions\u001b[0m\u001b[1;33m[\u001b[0m\u001b[1;34m\"has_index_names\"\u001b[0m\u001b[1;33m]\u001b[0m \u001b[1;33m=\u001b[0m \u001b[0mkwds\u001b[0m\u001b[1;33m[\u001b[0m\u001b[1;34m\"has_index_names\"\u001b[0m\u001b[1;33m]\u001b[0m\u001b[1;33m\u001b[0m\u001b[1;33m\u001b[0m\u001b[0m\n\u001b[0;32m    810\u001b[0m \u001b[1;33m\u001b[0m\u001b[0m\n\u001b[1;32m--> 811\u001b[1;33m         \u001b[0mself\u001b[0m\u001b[1;33m.\u001b[0m\u001b[0m_engine\u001b[0m \u001b[1;33m=\u001b[0m \u001b[0mself\u001b[0m\u001b[1;33m.\u001b[0m\u001b[0m_make_engine\u001b[0m\u001b[1;33m(\u001b[0m\u001b[0mself\u001b[0m\u001b[1;33m.\u001b[0m\u001b[0mengine\u001b[0m\u001b[1;33m)\u001b[0m\u001b[1;33m\u001b[0m\u001b[1;33m\u001b[0m\u001b[0m\n\u001b[0m\u001b[0;32m    812\u001b[0m \u001b[1;33m\u001b[0m\u001b[0m\n\u001b[0;32m    813\u001b[0m     \u001b[1;32mdef\u001b[0m \u001b[0mclose\u001b[0m\u001b[1;33m(\u001b[0m\u001b[0mself\u001b[0m\u001b[1;33m)\u001b[0m\u001b[1;33m:\u001b[0m\u001b[1;33m\u001b[0m\u001b[1;33m\u001b[0m\u001b[0m\n",
      "\u001b[1;32m~\\anaconda3\\envs\\PythonData\\lib\\site-packages\\pandas\\io\\parsers\\readers.py\u001b[0m in \u001b[0;36m_make_engine\u001b[1;34m(self, engine)\u001b[0m\n\u001b[0;32m   1038\u001b[0m             )\n\u001b[0;32m   1039\u001b[0m         \u001b[1;31m# error: Too many arguments for \"ParserBase\"\u001b[0m\u001b[1;33m\u001b[0m\u001b[1;33m\u001b[0m\u001b[1;33m\u001b[0m\u001b[0m\n\u001b[1;32m-> 1040\u001b[1;33m         \u001b[1;32mreturn\u001b[0m \u001b[0mmapping\u001b[0m\u001b[1;33m[\u001b[0m\u001b[0mengine\u001b[0m\u001b[1;33m]\u001b[0m\u001b[1;33m(\u001b[0m\u001b[0mself\u001b[0m\u001b[1;33m.\u001b[0m\u001b[0mf\u001b[0m\u001b[1;33m,\u001b[0m \u001b[1;33m**\u001b[0m\u001b[0mself\u001b[0m\u001b[1;33m.\u001b[0m\u001b[0moptions\u001b[0m\u001b[1;33m)\u001b[0m  \u001b[1;31m# type: ignore[call-arg]\u001b[0m\u001b[1;33m\u001b[0m\u001b[1;33m\u001b[0m\u001b[0m\n\u001b[0m\u001b[0;32m   1041\u001b[0m \u001b[1;33m\u001b[0m\u001b[0m\n\u001b[0;32m   1042\u001b[0m     \u001b[1;32mdef\u001b[0m \u001b[0m_failover_to_python\u001b[0m\u001b[1;33m(\u001b[0m\u001b[0mself\u001b[0m\u001b[1;33m)\u001b[0m\u001b[1;33m:\u001b[0m\u001b[1;33m\u001b[0m\u001b[1;33m\u001b[0m\u001b[0m\n",
      "\u001b[1;32m~\\anaconda3\\envs\\PythonData\\lib\\site-packages\\pandas\\io\\parsers\\c_parser_wrapper.py\u001b[0m in \u001b[0;36m__init__\u001b[1;34m(self, src, **kwds)\u001b[0m\n\u001b[0;32m     49\u001b[0m \u001b[1;33m\u001b[0m\u001b[0m\n\u001b[0;32m     50\u001b[0m         \u001b[1;31m# open handles\u001b[0m\u001b[1;33m\u001b[0m\u001b[1;33m\u001b[0m\u001b[1;33m\u001b[0m\u001b[0m\n\u001b[1;32m---> 51\u001b[1;33m         \u001b[0mself\u001b[0m\u001b[1;33m.\u001b[0m\u001b[0m_open_handles\u001b[0m\u001b[1;33m(\u001b[0m\u001b[0msrc\u001b[0m\u001b[1;33m,\u001b[0m \u001b[0mkwds\u001b[0m\u001b[1;33m)\u001b[0m\u001b[1;33m\u001b[0m\u001b[1;33m\u001b[0m\u001b[0m\n\u001b[0m\u001b[0;32m     52\u001b[0m         \u001b[1;32massert\u001b[0m \u001b[0mself\u001b[0m\u001b[1;33m.\u001b[0m\u001b[0mhandles\u001b[0m \u001b[1;32mis\u001b[0m \u001b[1;32mnot\u001b[0m \u001b[1;32mNone\u001b[0m\u001b[1;33m\u001b[0m\u001b[1;33m\u001b[0m\u001b[0m\n\u001b[0;32m     53\u001b[0m \u001b[1;33m\u001b[0m\u001b[0m\n",
      "\u001b[1;32m~\\anaconda3\\envs\\PythonData\\lib\\site-packages\\pandas\\io\\parsers\\base_parser.py\u001b[0m in \u001b[0;36m_open_handles\u001b[1;34m(self, src, kwds)\u001b[0m\n\u001b[0;32m    227\u001b[0m             \u001b[0mmemory_map\u001b[0m\u001b[1;33m=\u001b[0m\u001b[0mkwds\u001b[0m\u001b[1;33m.\u001b[0m\u001b[0mget\u001b[0m\u001b[1;33m(\u001b[0m\u001b[1;34m\"memory_map\"\u001b[0m\u001b[1;33m,\u001b[0m \u001b[1;32mFalse\u001b[0m\u001b[1;33m)\u001b[0m\u001b[1;33m,\u001b[0m\u001b[1;33m\u001b[0m\u001b[1;33m\u001b[0m\u001b[0m\n\u001b[0;32m    228\u001b[0m             \u001b[0mstorage_options\u001b[0m\u001b[1;33m=\u001b[0m\u001b[0mkwds\u001b[0m\u001b[1;33m.\u001b[0m\u001b[0mget\u001b[0m\u001b[1;33m(\u001b[0m\u001b[1;34m\"storage_options\"\u001b[0m\u001b[1;33m,\u001b[0m \u001b[1;32mNone\u001b[0m\u001b[1;33m)\u001b[0m\u001b[1;33m,\u001b[0m\u001b[1;33m\u001b[0m\u001b[1;33m\u001b[0m\u001b[0m\n\u001b[1;32m--> 229\u001b[1;33m             \u001b[0merrors\u001b[0m\u001b[1;33m=\u001b[0m\u001b[0mkwds\u001b[0m\u001b[1;33m.\u001b[0m\u001b[0mget\u001b[0m\u001b[1;33m(\u001b[0m\u001b[1;34m\"encoding_errors\"\u001b[0m\u001b[1;33m,\u001b[0m \u001b[1;34m\"strict\"\u001b[0m\u001b[1;33m)\u001b[0m\u001b[1;33m,\u001b[0m\u001b[1;33m\u001b[0m\u001b[1;33m\u001b[0m\u001b[0m\n\u001b[0m\u001b[0;32m    230\u001b[0m         )\n\u001b[0;32m    231\u001b[0m \u001b[1;33m\u001b[0m\u001b[0m\n",
      "\u001b[1;32m~\\anaconda3\\envs\\PythonData\\lib\\site-packages\\pandas\\io\\common.py\u001b[0m in \u001b[0;36mget_handle\u001b[1;34m(path_or_buf, mode, encoding, compression, memory_map, is_text, errors, storage_options)\u001b[0m\n\u001b[0;32m    705\u001b[0m                 \u001b[0mencoding\u001b[0m\u001b[1;33m=\u001b[0m\u001b[0mioargs\u001b[0m\u001b[1;33m.\u001b[0m\u001b[0mencoding\u001b[0m\u001b[1;33m,\u001b[0m\u001b[1;33m\u001b[0m\u001b[1;33m\u001b[0m\u001b[0m\n\u001b[0;32m    706\u001b[0m                 \u001b[0merrors\u001b[0m\u001b[1;33m=\u001b[0m\u001b[0merrors\u001b[0m\u001b[1;33m,\u001b[0m\u001b[1;33m\u001b[0m\u001b[1;33m\u001b[0m\u001b[0m\n\u001b[1;32m--> 707\u001b[1;33m                 \u001b[0mnewline\u001b[0m\u001b[1;33m=\u001b[0m\u001b[1;34m\"\"\u001b[0m\u001b[1;33m,\u001b[0m\u001b[1;33m\u001b[0m\u001b[1;33m\u001b[0m\u001b[0m\n\u001b[0m\u001b[0;32m    708\u001b[0m             )\n\u001b[0;32m    709\u001b[0m         \u001b[1;32melse\u001b[0m\u001b[1;33m:\u001b[0m\u001b[1;33m\u001b[0m\u001b[1;33m\u001b[0m\u001b[0m\n",
      "\u001b[1;31mFileNotFoundError\u001b[0m: [Errno 2] No such file or directory: 'reduced_2019.csv'"
     ]
    }
   ],
   "source": [
    "data = pd.read_csv(\"reduced_2019.csv\")\n",
    "\n",
    "data_df = data\n",
    "\n",
    "data_df.head()"
   ]
  },
  {
   "cell_type": "markdown",
   "metadata": {},
   "source": [
    "# Cleaning data"
   ]
  },
  {
   "cell_type": "markdown",
   "metadata": {},
   "source": [
    "Viewing shape and contents of data."
   ]
  },
  {
   "cell_type": "code",
   "execution_count": null,
   "metadata": {},
   "outputs": [],
   "source": [
    "data_df.shape"
   ]
  },
  {
   "cell_type": "code",
   "execution_count": null,
   "metadata": {},
   "outputs": [],
   "source": [
    "data_df.columns"
   ]
  },
  {
   "cell_type": "code",
   "execution_count": null,
   "metadata": {},
   "outputs": [],
   "source": [
    "data_df.info()"
   ]
  },
  {
   "cell_type": "code",
   "execution_count": null,
   "metadata": {},
   "outputs": [],
   "source": [
    "data_df.duplicated()\n",
    "boolean_series_of_duplicates = data_df.duplicated()\n",
    "len(data_df.loc[boolean_series_of_duplicates, :])"
   ]
  },
  {
   "cell_type": "code",
   "execution_count": null,
   "metadata": {},
   "outputs": [],
   "source": [
    "data_df.loc[boolean_series_of_duplicates, :]"
   ]
  },
  {
   "cell_type": "markdown",
   "metadata": {},
   "source": [
    "We investigated the duplicates and found that the abive number was the number of crime IDs that had null values in similar locations. They also tended to fall into the crime type of anti-social behaviour. "
   ]
  },
  {
   "cell_type": "code",
   "execution_count": null,
   "metadata": {},
   "outputs": [],
   "source": [
    "data_df.isnull().sum()"
   ]
  },
  {
   "cell_type": "markdown",
   "metadata": {},
   "source": [
    "The last outcome column shows many null values, we have decided to change this to 'No outcome recorded' rather than leave it blank."
   ]
  },
  {
   "cell_type": "code",
   "execution_count": null,
   "metadata": {},
   "outputs": [],
   "source": [
    "# Fill in missing values in 'last outcome category'\n",
    "data_df[\"Last outcome category\"] = data_df[\"Last outcome category\"].fillna('No outcome recorded')"
   ]
  },
  {
   "cell_type": "markdown",
   "metadata": {},
   "source": [
    "## Filter West Midlands data"
   ]
  },
  {
   "cell_type": "markdown",
   "metadata": {},
   "source": [
    "We only want the data for the follwing districts: Birmingham, Coventry, Dudley, Sandwell, Solihull, Walsall, Wolverhampton. We will then filter this data into a new West_Midlands_df"
   ]
  },
  {
   "cell_type": "code",
   "execution_count": null,
   "metadata": {},
   "outputs": [],
   "source": [
    "West_midlands_df = data_df[(data_df[\"District name (2019)\"]==\"Birmingham\")|(data_df[\"District name (2019)\"]==\"Coventry\")|(data_df[\"District name (2019)\"]==\"Dudley\")|(data_df[\"District name (2019)\"]==\"Sandwell\")|(data_df[\"District name (2019)\"]==\"Solihull\")|(data_df[\"District name (2019)\"]==\"Walsall\")|(data_df[\"District name (2019)\"]==\"Wolverhampton\")]\n",
    "\n",
    "West_midlands_df.head()"
   ]
  },
  {
   "cell_type": "code",
   "execution_count": null,
   "metadata": {},
   "outputs": [],
   "source": [
    "West_midlands_df.info()"
   ]
  },
  {
   "cell_type": "code",
   "execution_count": null,
   "metadata": {},
   "outputs": [],
   "source": [
    "#The Crime ID column shows many null values, we have decided to change this to 'No ID recorded' rather than leave it blank."
   ]
  },
  {
   "cell_type": "code",
   "execution_count": null,
   "metadata": {},
   "outputs": [],
   "source": [
    "# Fill in missing values in 'Crime ID'\n",
    "West_midlands_df[\"Crime ID\"] = West_midlands_df[\"Crime ID\"].fillna('No ID recorded')"
   ]
  },
  {
   "cell_type": "code",
   "execution_count": null,
   "metadata": {},
   "outputs": [],
   "source": [
    "West_midlands_df.info()"
   ]
  },
  {
   "cell_type": "code",
   "execution_count": null,
   "metadata": {},
   "outputs": [],
   "source": [
    "West_midlands_df.head()"
   ]
  },
  {
   "cell_type": "code",
   "execution_count": null,
   "metadata": {},
   "outputs": [],
   "source": [
    "West_midlands_df.to_csv('clean_2019.csv', index=False)"
   ]
  },
  {
   "cell_type": "markdown",
   "metadata": {},
   "source": [
    "We have local income deprivation data in an excel file which we need to read in:"
   ]
  },
  {
   "cell_type": "code",
   "execution_count": null,
   "metadata": {},
   "outputs": [],
   "source": [
    "lidd = pd.read_excel(\"localincomedeprivationdata.xlsx\", engine='openpyxl')"
   ]
  },
  {
   "cell_type": "code",
   "execution_count": null,
   "metadata": {},
   "outputs": [],
   "source": [
    "lidd.head()"
   ]
  },
  {
   "cell_type": "markdown",
   "metadata": {},
   "source": [
    "Renaming columns"
   ]
  },
  {
   "cell_type": "code",
   "execution_count": null,
   "metadata": {},
   "outputs": [],
   "source": [
    "lidd = lidd.rename(columns={\"Overall Index of Multiple Deprivation (IMD) Score\":\"LSOA IMD Score\"})"
   ]
  },
  {
   "cell_type": "code",
   "execution_count": null,
   "metadata": {},
   "outputs": [],
   "source": [
    "lidd = lidd.rename(columns={\"Index of Multiple Deprivation (IMD) Rank (where 1 is most deprived)\":\"LSOA IMD Rank\"})"
   ]
  },
  {
   "cell_type": "code",
   "execution_count": null,
   "metadata": {},
   "outputs": [],
   "source": [
    "lidd = lidd.rename(columns={\"Income Rank (where 1 is most deprived)\":\"LSOA Income Rank\"})"
   ]
  },
  {
   "cell_type": "code",
   "execution_count": null,
   "metadata": {},
   "outputs": [],
   "source": [
    "del lidd['LSOA name (2011)']\n",
    "del lidd['Local Authority District code (2019)']\n",
    "del lidd['Local Authority District name (2019)']\n",
    "del lidd['Index of Multiple Deprivation (IMD) Decile (where 1 is most deprived 10% of LSOAs)']\n",
    "del lidd['Income Score (rate)']\n",
    "del lidd['Income Decile (where 1 is most deprived 10% of LSOAs)']\n",
    "del lidd['Total population: mid 2015 (excluding prisoners)']\n",
    "del lidd['Dependent Children aged 0-15: mid 2015 (excluding prisoners)']\n",
    "del lidd['Population aged 16-59: mid 2015 (excluding prisoners)']\n",
    "del lidd['Older population aged 60 and over: mid 2015 (excluding prisoners)']\n",
    "del lidd['Working age population 18-59/64: for use with Employment Deprivation Domain (excluding prisoners) ']"
   ]
  },
  {
   "cell_type": "code",
   "execution_count": null,
   "metadata": {},
   "outputs": [],
   "source": [
    "lidd.head()"
   ]
  },
  {
   "cell_type": "code",
   "execution_count": null,
   "metadata": {},
   "outputs": [],
   "source": [
    "lidd = lidd.rename(columns={\"LSOA code (2011)\":\"LSOA code\"})\n",
    "lidd.head()"
   ]
  },
  {
   "cell_type": "markdown",
   "metadata": {},
   "source": [
    "Reading in LSSOA geographical boundary data for local level data analysis."
   ]
  },
  {
   "cell_type": "code",
   "execution_count": null,
   "metadata": {},
   "outputs": [],
   "source": [
    "llso_lat_long_df = pd.read_csv(\"Lower_Layer_Super_Output_Areas__December_2011__Boundaries_Full_Clipped__BFC__EW_V3.csv\")\n",
    "\n",
    "llso_lat_long_df.head()"
   ]
  },
  {
   "cell_type": "code",
   "execution_count": null,
   "metadata": {},
   "outputs": [],
   "source": [
    "llso_lat_long_df1 = llso_lat_long_df.rename(columns={\"LSOA11CD\":\"LSOA code\"})"
   ]
  },
  {
   "cell_type": "code",
   "execution_count": null,
   "metadata": {},
   "outputs": [],
   "source": [
    "lidd_1 = pd.merge(lidd,llso_lat_long_df1 , on = \"LSOA code\")\n",
    "lidd_1.head()"
   ]
  },
  {
   "cell_type": "markdown",
   "metadata": {},
   "source": [
    "Deleting columns not needed."
   ]
  },
  {
   "cell_type": "code",
   "execution_count": null,
   "metadata": {},
   "outputs": [],
   "source": [
    "del lidd_1['OBJECTID']\n",
    "del lidd_1['LSOA11NM']\n",
    "del lidd_1['BNG_E']\n",
    "del lidd_1['BNG_N']\n",
    "del lidd_1['Shape_Leng']\n",
    "del lidd_1['Shape__Area']\n",
    "del lidd_1['Shape__Length']"
   ]
  },
  {
   "cell_type": "markdown",
   "metadata": {},
   "source": [
    "Create new dataframe that merges West Midlands Data to LSOA data."
   ]
  },
  {
   "cell_type": "code",
   "execution_count": null,
   "metadata": {},
   "outputs": [],
   "source": [
    "West_midlands_df1 = pd.merge(West_midlands_df, lidd_1, on = \"LSOA code\")\n",
    "West_midlands_df1.head()"
   ]
  },
  {
   "cell_type": "code",
   "execution_count": null,
   "metadata": {},
   "outputs": [],
   "source": [
    "West_midlands_df1.columns"
   ]
  },
  {
   "cell_type": "markdown",
   "metadata": {},
   "source": [
    "One last check for null values and duplicates. "
   ]
  },
  {
   "cell_type": "code",
   "execution_count": null,
   "metadata": {},
   "outputs": [],
   "source": [
    "West_midlands_df1.isnull().sum()"
   ]
  },
  {
   "cell_type": "code",
   "execution_count": null,
   "metadata": {},
   "outputs": [],
   "source": [
    "West_midlands_df1.duplicated()\n",
    "boolean_series_of_duplicates = West_midlands_df1.duplicated()\n",
    "len(West_midlands_df1.loc[boolean_series_of_duplicates, :])"
   ]
  },
  {
   "cell_type": "code",
   "execution_count": null,
   "metadata": {},
   "outputs": [],
   "source": [
    "West_midlands_df1.loc[boolean_series_of_duplicates, :]"
   ]
  },
  {
   "cell_type": "markdown",
   "metadata": {},
   "source": [
    "The above confirms that the duplicates "
   ]
  },
  {
   "cell_type": "markdown",
   "metadata": {},
   "source": [
    "Export to clean CSV file"
   ]
  },
  {
   "cell_type": "code",
   "execution_count": null,
   "metadata": {},
   "outputs": [],
   "source": [
    "West_midlands_df1.to_csv('clean_2019_1.csv', index=False)"
   ]
  },
  {
   "cell_type": "markdown",
   "metadata": {},
   "source": [
    "# Data Visualisation "
   ]
  },
  {
   "cell_type": "markdown",
   "metadata": {},
   "source": [
    "Hypothesis: Within the West Midlands during 2019 the Index of Multiple Deprivation (IMD) Score of an area should influence the exposure to certain crimes in that area. The higher the level of crime the higher the IMD score."
   ]
  },
  {
   "cell_type": "markdown",
   "metadata": {},
   "source": [
    "## Research Question 1: Does the crime data sourced from the West Midlands Police Database correlate with the Index of Multiple Deprivation (IMD) score?"
   ]
  },
  {
   "cell_type": "markdown",
   "metadata": {},
   "source": [
    "The IMD score is created with 7 domains of deprivation: Income (22.5%), Employment (22.5%), Education (13.5%), Health (13.5%), Crime (9.3%), Barriers to Housing & Services (9.3%), and Living Environment (9.3%). We expect that because crime is one domain used to create the IMD score that the crime rates in the LLSOAs should correlate with the IMD score. \n",
    "\n",
    "We also wanted to see if there are any outliers and what this would mean for those LLSOAs.\n",
    "\n",
    "We will then use this data to establish which areas are exposed to which crimes."
   ]
  },
  {
   "cell_type": "code",
   "execution_count": null,
   "metadata": {},
   "outputs": [],
   "source": [
    "# Viewing the data we want to work with\n",
    "West_midlands_df1[\"LSOA name\"].nunique()"
   ]
  },
  {
   "cell_type": "code",
   "execution_count": null,
   "metadata": {},
   "outputs": [],
   "source": [
    "West_midlands_df1[\"LSOA IMD Rank\"].nunique()"
   ]
  },
  {
   "cell_type": "code",
   "execution_count": null,
   "metadata": {},
   "outputs": [],
   "source": [
    "West_midlands_df1[\"LSOA IMD Score\"].max()"
   ]
  },
  {
   "cell_type": "code",
   "execution_count": null,
   "metadata": {},
   "outputs": [],
   "source": [
    "# Groupby LSOA\n",
    "f = {\"LSOA name\": \"count\", \"LSOA IMD Score\":'first', \"District code (2019)\": \"first\", \"Longitude\": \"first\", \"Latitude\": \"first\"}\n",
    "West_midlands_df1.groupby([\"LSOA name\"], as_index=False).agg(f)\n",
    "\n",
    "LSOA_crime_count_df = West_midlands_df1.groupby([\"LSOA name\"]).agg(f)\n",
    "\n",
    "LSOA_crime_count_df = LSOA_crime_count_df.rename(columns={\"LSOA name\":\"LSOA crime count\"})\n",
    "\n",
    "LSOA_crime_count_df = LSOA_crime_count_df.reset_index()\n",
    "LSOA_crime_count_df"
   ]
  },
  {
   "cell_type": "code",
   "execution_count": null,
   "metadata": {},
   "outputs": [],
   "source": [
    "LSOA_crime_count_df[\"LSOA crime count\"].max()"
   ]
  },
  {
   "cell_type": "code",
   "execution_count": null,
   "metadata": {},
   "outputs": [],
   "source": [
    "# Scatter plot to show results\n",
    "y_axis = LSOA_crime_count_df[\"LSOA crime count\"]\n",
    "x_axis = LSOA_crime_count_df[\"LSOA IMD Score\"]"
   ]
  },
  {
   "cell_type": "code",
   "execution_count": null,
   "metadata": {},
   "outputs": [],
   "source": [
    "# Create a function to create Linear Regression plots\n",
    "def plot_linear_regression(x_axis, y_axis, title, text_coordinates):\n",
    "    \n",
    "    # Run the regresson\n",
    "    (slope, intercept, rvalue, pvalue, stderr) = linregress(x_axis, y_axis)\n",
    "    regress_values = x_axis * slope + intercept\n",
    "    line_eq = \"y = \" + str(round(slope,2)) + \"x + \" + str(round(intercept,2))\n",
    "\n",
    "    plt.plot(x_axis,regress_values,\"r-\")\n",
    "    plt.annotate(line_eq,text_coordinates,fontsize=50,color=\"red\")\n",
    "    print(f\"The r-value is: {rvalue**2}\")"
   ]
  },
  {
   "cell_type": "code",
   "execution_count": null,
   "metadata": {},
   "outputs": [],
   "source": [
    "# Plot the scatter \n",
    "plt.title(\"Crime Count all LSOA's VS IMD Score\", fontsize=60)\n",
    "plt.scatter(x_axis, y_axis, marker=\"o\", color=\"blue\")\n",
    "plt.rcParams[\"figure.figsize\"] = (50,30)\n",
    "plt.xlim(0,80)\n",
    "plt.ylim(0, 600)\n",
    "plt.xticks(fontsize=35)\n",
    "plt.yticks(fontsize=35)\n",
    "plt.xlabel(\"LSOA IMD Score\", fontsize=45)\n",
    "plt.ylabel(\"LSOA Crime Count\", fontsize=45)\n",
    "plot_linear_regression(x_axis, y_axis, 'LSOA Crime Count',(65,400))\n",
    "# Save the figure\n",
    "plt.savefig(\"output/Crime Count all LSOA's VS IMD Score.png\")\n",
    "plt.show()"
   ]
  },
  {
   "cell_type": "markdown",
   "metadata": {},
   "source": [
    "A scatter plot was chosen as we are working with a large dataset. This plot highlights a few outliers which for the statistical analysis can be omitted for the sake of finding out whether there is a correlation between the the LSOA crime count and LSOA IMD score. We have therefore reduced the y limits to 600 rather than over  4000 so that we can visualise any correlation and view the linear regression. \n",
    "\n",
    "The line of linear regression shows that there is a postive linear correlation but it is quite weak. \n",
    "\n",
    "The scatterplot shows that our hypothesis may not be correct. Whilst the amount of crimes increase the higher IMD score this is not uniform. There are also high crime rates in LSOAs with low IMD scores. \n",
    "\n",
    "We also recognise that crime is only one measurement used to created the IMD score. "
   ]
  },
  {
   "cell_type": "markdown",
   "metadata": {},
   "source": [
    "We also decided to see if there was any difference in correlation when plotting each district individually."
   ]
  },
  {
   "cell_type": "code",
   "execution_count": null,
   "metadata": {},
   "outputs": [],
   "source": [
    "# Create local authority District DataFrames\n",
    "birmingham_df = LSOA_crime_count_df.loc[(LSOA_crime_count_df[\"District code (2019)\"] == \"E08000025\")]\n",
    "coventry_df = LSOA_crime_count_df.loc[(LSOA_crime_count_df[\"District code (2019)\"] == \"E08000026\")]\n",
    "solihull_df = LSOA_crime_count_df.loc[(LSOA_crime_count_df[\"District code (2019)\"] == \"E08000029\")]\n",
    "sandwell_df = LSOA_crime_count_df.loc[(LSOA_crime_count_df[\"District code (2019)\"] == \"E08000028\")]\n",
    "dudley_df = LSOA_crime_count_df.loc[(LSOA_crime_count_df[\"District code (2019)\"] == \"E08000027\")]\n",
    "wolverhampton_df = LSOA_crime_count_df.loc[(LSOA_crime_count_df[\"District code (2019)\"] == \"E08000031\")]\n",
    "walsall_df = LSOA_crime_count_df.loc[(LSOA_crime_count_df[\"District code (2019)\"] == \"E08000030\")]"
   ]
  },
  {
   "cell_type": "markdown",
   "metadata": {},
   "source": [
    "Birmingham scatterplot to show LSOA crime count Vs LSOA IMD score"
   ]
  },
  {
   "cell_type": "code",
   "execution_count": null,
   "metadata": {},
   "outputs": [],
   "source": [
    "# Scatter plot to show results\n",
    "y_axis = birmingham_df[\"LSOA crime count\"]\n",
    "x_axis = birmingham_df[\"LSOA IMD Score\"]\n",
    "# Create a function to create Linear Regression plots\n",
    "def plot_linear_regression(x_axis, y_axis, title, text_coordinates):\n",
    "    \n",
    "    # Run the regresson\n",
    "    (slope, intercept, rvalue, pvalue, stderr) = linregress(x_axis, y_axis)\n",
    "    regress_values = x_axis * slope + intercept\n",
    "    line_eq = \"y = \" + str(round(slope,2)) + \"x + \" + str(round(intercept,2))\n",
    "\n",
    "    plt.plot(x_axis,regress_values,\"r-\")\n",
    "    plt.annotate(line_eq,text_coordinates,fontsize=50,color=\"red\")\n",
    "    print(f\"The r-value is: {rvalue**2}\")\n",
    " # Linear regression?\n",
    "#slope, intercept, r, p, se = stats.linregress(str(x_axis), str(y_axis))\n",
    "#y_fit = slope*x_axis + intercept\n",
    "\n",
    "plt.title(\"Birmingham Crime count VS IMD Score\", fontsize=60)\n",
    "plt.scatter(x_axis, y_axis, marker=\"o\", color=\"blue\")\n",
    "#plt.plot(x_axis, y_fit)\n",
    "plt.rcParams[\"figure.figsize\"] = (50,30)\n",
    "plt.xlim(0,80)\n",
    "plt.ylim(0, 600)\n",
    "plt.xticks(fontsize=35)\n",
    "plt.yticks(fontsize=35)\n",
    "plt.xlabel(\"LSOA IMD Score\", fontsize=45)\n",
    "plt.ylabel(\"LSOA Crime Count\", fontsize=45)\n",
    "plot_linear_regression(x_axis, y_axis, 'LSOA Crime Count',(35,250))\n",
    "plt.savefig(\"output/Birmingham Crime count VS IMD Score.png\")\n",
    "plt.show()"
   ]
  },
  {
   "cell_type": "markdown",
   "metadata": {},
   "source": [
    "The r value for the Birmingham scatterplot is lower than the r value for the total districts. This shows that there is an even weaker linear correlation and suggests that there would be more crime counts in areas with lower IMD scores. This plot also shows that for all areas regardless of IMD score there tends to be lower level of crimes."
   ]
  },
  {
   "cell_type": "markdown",
   "metadata": {},
   "source": [
    "Coventry scatterplot to show LSOA crime count Vs LSOA IMD score."
   ]
  },
  {
   "cell_type": "code",
   "execution_count": null,
   "metadata": {},
   "outputs": [],
   "source": [
    "# Scatter plot to show results\n",
    "y_axis = coventry_df[\"LSOA crime count\"]\n",
    "x_axis = coventry_df[\"LSOA IMD Score\"]\n",
    "# Create a function to create Linear Regression plots\n",
    "def plot_linear_regression(x_axis, y_axis, title, text_coordinates):\n",
    "    \n",
    "    # Run the regresson\n",
    "    (slope, intercept, rvalue, pvalue, stderr) = linregress(x_axis, y_axis)\n",
    "    regress_values = x_axis * slope + intercept\n",
    "    line_eq = \"y = \" + str(round(slope,2)) + \"x + \" + str(round(intercept,2))\n",
    "\n",
    "    plt.plot(x_axis,regress_values,\"r-\")\n",
    "    plt.annotate(line_eq,text_coordinates,fontsize=50,color=\"red\")\n",
    "    print(f\"The r-value is: {rvalue**2}\")\n",
    " # Linear regression?\n",
    "#slope, intercept, r, p, se = stats.linregress(str(x_axis), str(y_axis))\n",
    "#y_fit = slope*x_axis + intercept\n",
    "\n",
    "plt.title(\"Coventry Crime count VS IMD Score\", fontsize=60)\n",
    "plt.scatter(x_axis, y_axis, marker=\"o\", color=\"blue\")\n",
    "#plt.plot(x_axis, y_fit)\n",
    "plt.rcParams[\"figure.figsize\"] = (50,30)\n",
    "plt.xlim(0,80)\n",
    "plt.ylim(0, 600)\n",
    "plt.xticks(fontsize=35)\n",
    "plt.yticks(fontsize=35)\n",
    "plt.xlabel(\"LSOA IMD Score\", fontsize=45)\n",
    "plt.ylabel(\"LSOA Crime Count\", fontsize=45)\n",
    "plot_linear_regression(x_axis, y_axis, 'LSOA Crime Count',(35,250))\n",
    "plt.savefig(\"output/Coventry Crime count VS IMD Score.png\")\n",
    "plt.show()"
   ]
  },
  {
   "cell_type": "markdown",
   "metadata": {},
   "source": [
    "The Coventry scatterplot shows that there are fewer crimes in areas with a LMD score but there are also a significant proportion of LSOAs that see higher number of crimes the higher the LMD score. The r value for this plot is very similar to the overall district plot which shows a weak postive linear correlation. "
   ]
  },
  {
   "cell_type": "markdown",
   "metadata": {},
   "source": [
    "Solihull scatterplot to show LSOA crime count Vs LSOA IMD score."
   ]
  },
  {
   "cell_type": "code",
   "execution_count": null,
   "metadata": {},
   "outputs": [],
   "source": [
    "# Scatter plot to show results\n",
    "y_axis = solihull_df[\"LSOA crime count\"]\n",
    "x_axis = solihull_df[\"LSOA IMD Score\"]\n",
    "# Create a function to create Linear Regression plots\n",
    "def plot_linear_regression(x_axis, y_axis, title, text_coordinates):\n",
    "    \n",
    "    # Run the regresson\n",
    "    (slope, intercept, rvalue, pvalue, stderr) = linregress(x_axis, y_axis)\n",
    "    regress_values = x_axis * slope + intercept\n",
    "    line_eq = \"y = \" + str(round(slope,2)) + \"x + \" + str(round(intercept,2))\n",
    "\n",
    "    plt.plot(x_axis,regress_values,\"r-\")\n",
    "    plt.annotate(line_eq,text_coordinates,fontsize=50,color=\"red\")\n",
    "    print(f\"The r-value is: {rvalue**2}\")\n",
    " # Linear regression?\n",
    "#slope, intercept, r, p, se = stats.linregress(str(x_axis), str(y_axis))\n",
    "#y_fit = slope*x_axis + intercept\n",
    "\n",
    "plt.title(\"Solihull Crime count VS IMD Score\", fontsize=60)\n",
    "plt.scatter(x_axis, y_axis, marker=\"o\", color=\"blue\")\n",
    "#plt.plot(x_axis, y_fit)\n",
    "plt.rcParams[\"figure.figsize\"] = (50,30)\n",
    "plt.xlim(0,80)\n",
    "plt.ylim(0, 600)\n",
    "plt.xticks(fontsize=35)\n",
    "plt.yticks(fontsize=35)\n",
    "plt.xlabel(\"LSOA IMD Score\", fontsize=45)\n",
    "plt.ylabel(\"LSOA Crime Count\", fontsize=45)\n",
    "plot_linear_regression(x_axis, y_axis, 'LSOA Crime Count',(35,250))\n",
    "plt.savefig(\"output/Solihull Crime count VS IMD Score.png\")\n",
    "plt.show()"
   ]
  },
  {
   "cell_type": "markdown",
   "metadata": {},
   "source": [
    "Solihull has a r value simialr to the district plot as a whole. This shows that there is a weak oistive correlation between LSOA IMD score and crime rate. There are more LSOAs that have a lower LMD score and low crime rate levels. "
   ]
  },
  {
   "cell_type": "markdown",
   "metadata": {},
   "source": [
    "Sandwell scatterplot to show LSOA crime count Vs LSOA IMD score."
   ]
  },
  {
   "cell_type": "code",
   "execution_count": null,
   "metadata": {},
   "outputs": [],
   "source": [
    "# Scatter plot to show results\n",
    "y_axis = sandwell_df[\"LSOA crime count\"]\n",
    "x_axis = sandwell_df[\"LSOA IMD Score\"]\n",
    "# Create a function to create Linear Regression plots\n",
    "def plot_linear_regression(x_axis, y_axis, title, text_coordinates):\n",
    "    \n",
    "    # Run the regresson\n",
    "    (slope, intercept, rvalue, pvalue, stderr) = linregress(x_axis, y_axis)\n",
    "    regress_values = x_axis * slope + intercept\n",
    "    line_eq = \"y = \" + str(round(slope,2)) + \"x + \" + str(round(intercept,2))\n",
    "\n",
    "    plt.plot(x_axis,regress_values,\"r-\")\n",
    "    plt.annotate(line_eq,text_coordinates,fontsize=50,color=\"red\")\n",
    "    print(f\"The r-value is: {rvalue**2}\")\n",
    " # Linear regression?\n",
    "#slope, intercept, r, p, se = stats.linregress(str(x_axis), str(y_axis))\n",
    "#y_fit = slope*x_axis + intercept\n",
    "\n",
    "plt.title(\"Sandwell Crime count VS IMD Score\", fontsize=60)\n",
    "plt.scatter(x_axis, y_axis, marker=\"o\", color=\"blue\")\n",
    "#plt.plot(x_axis, y_fit)\n",
    "plt.rcParams[\"figure.figsize\"] = (50,30)\n",
    "plt.xlim(0,80)\n",
    "plt.ylim(0, 600)\n",
    "plt.xticks(fontsize=35)\n",
    "plt.yticks(fontsize=35)\n",
    "plt.xlabel(\"LSOA IMD Score\", fontsize=45)\n",
    "plt.ylabel(\"LSOA Crime Count\", fontsize=45)\n",
    "plot_linear_regression(x_axis, y_axis, 'LSOA Crime Count',(35,250))\n",
    "plt.savefig(\"output/Sandwell Crime count VS IMD Score.png\")\n",
    "plt.show()"
   ]
  },
  {
   "cell_type": "markdown",
   "metadata": {},
   "source": [
    "The Sandwell scatterplot shows that there aren't any LSOAs with an IMD score below 10. Despite this the r value shows the weakest correlation of all districts. This suggests that in Sandwell the crime count does not correlate with the IMD score and that crime occurs in all LSOAs - although this plot is similar to the other districts in that there are not many LSOAs that witness more than 300 counts of crime in 2019."
   ]
  },
  {
   "cell_type": "markdown",
   "metadata": {},
   "source": [
    "Walsall scatterplot to show LSOA crime count Vs LSOA IMD score."
   ]
  },
  {
   "cell_type": "code",
   "execution_count": null,
   "metadata": {},
   "outputs": [],
   "source": [
    "# Scatter plot to show results\n",
    "y_axis = walsall_df[\"LSOA crime count\"]\n",
    "x_axis = walsall_df[\"LSOA IMD Score\"]\n",
    "# Create a function to create Linear Regression plots\n",
    "def plot_linear_regression(x_axis, y_axis, title, text_coordinates):\n",
    "    \n",
    "    # Run the regresson\n",
    "    (slope, intercept, rvalue, pvalue, stderr) = linregress(x_axis, y_axis)\n",
    "    regress_values = x_axis * slope + intercept\n",
    "    line_eq = \"y = \" + str(round(slope,2)) + \"x + \" + str(round(intercept,2))\n",
    "\n",
    "    plt.plot(x_axis,regress_values,\"r-\")\n",
    "    plt.annotate(line_eq,text_coordinates,fontsize=50,color=\"red\")\n",
    "    print(f\"The r-value is: {rvalue**2}\")\n",
    " # Linear regression?\n",
    "#slope, intercept, r, p, se = stats.linregress(str(x_axis), str(y_axis))\n",
    "#y_fit = slope*x_axis + intercept\n",
    "\n",
    "plt.title(\"Walsall Crime count VS IMD Score\", fontsize=60)\n",
    "plt.scatter(x_axis, y_axis, marker=\"o\", color=\"blue\")\n",
    "#plt.plot(x_axis, y_fit)\n",
    "plt.rcParams[\"figure.figsize\"] = (50,30)\n",
    "plt.xlim(0,80)\n",
    "plt.ylim(0, 600)\n",
    "plt.xticks(fontsize=35)\n",
    "plt.yticks(fontsize=35)\n",
    "plt.xlabel(\"LSOA IMD Score\", fontsize=45)\n",
    "plt.ylabel(\"LSOA Crime Count\", fontsize=45)\n",
    "plot_linear_regression(x_axis, y_axis, 'LSOA Crime Count',(30,250))\n",
    "plt.savefig(\"output/Walsall Crime count VS IMD Score.png\")\n",
    "plt.show()"
   ]
  },
  {
   "cell_type": "markdown",
   "metadata": {},
   "source": [
    "The Walsall r value shows the strongest positive liner correlation. This supports our hypothesis that the higher the IMD score the greater the crime count. "
   ]
  },
  {
   "cell_type": "markdown",
   "metadata": {},
   "source": [
    "Wolverhampton scatterplot to show LSOA crime count Vs LSOA IMD score."
   ]
  },
  {
   "cell_type": "code",
   "execution_count": null,
   "metadata": {},
   "outputs": [],
   "source": [
    "# Scatter plot to show results\n",
    "y_axis = wolverhampton_df[\"LSOA crime count\"]\n",
    "x_axis = wolverhampton_df[\"LSOA IMD Score\"]\n",
    "# Create a function to create Linear Regression plots\n",
    "def plot_linear_regression(x_axis, y_axis, title, text_coordinates):\n",
    "    \n",
    "    # Run the regresson\n",
    "    (slope, intercept, rvalue, pvalue, stderr) = linregress(x_axis, y_axis)\n",
    "    regress_values = x_axis * slope + intercept\n",
    "    line_eq = \"y = \" + str(round(slope,2)) + \"x + \" + str(round(intercept,2))\n",
    "\n",
    "    plt.plot(x_axis,regress_values,\"r-\")\n",
    "    plt.annotate(line_eq,text_coordinates,fontsize=50,color=\"red\")\n",
    "    print(f\"The r-value is: {rvalue**2}\")\n",
    " # Linear regression?\n",
    "#slope, intercept, r, p, se = stats.linregress(str(x_axis), str(y_axis))\n",
    "#y_fit = slope*x_axis + intercept\n",
    "\n",
    "plt.title(\"Wolverhampton Crime count VS IMD Score\", fontsize=60)\n",
    "plt.scatter(x_axis, y_axis, marker=\"o\", color=\"blue\")\n",
    "#plt.plot(x_axis, y_fit)\n",
    "plt.rcParams[\"figure.figsize\"] = (50,30)\n",
    "plt.xlim(0,80)\n",
    "plt.ylim(0, 600)\n",
    "plt.xticks(fontsize=35)\n",
    "plt.yticks(fontsize=35)\n",
    "plt.xlabel(\"LSOA IMD Score\", fontsize=45)\n",
    "plt.ylabel(\"LSOA Crime Count\", fontsize=45)\n",
    "plot_linear_regression(x_axis, y_axis, 'LSOA Crime Count',(30,250))\n",
    "plt.savefig(\"output/Wolverhampton Crime count VS IMD Score.png\")\n",
    "plt.show()"
   ]
  },
  {
   "cell_type": "markdown",
   "metadata": {},
   "source": [
    "Again, the Wolverhampton scatterplot is similar to the overall district plot. It shows a weak postive correlation with the majority of LSOA witnessing less than 300 counts of crime in 2019."
   ]
  },
  {
   "cell_type": "markdown",
   "metadata": {},
   "source": [
    "Overall, these scatterplots show that there is a weak positive correlation between LSOA Index of Multiple Deprivation score and crime count. Walsall has the strongest positive correlation and this supports our hypothesis. The other districts do not tend to have a signifcantly maority of LSOAs that have crime counts higher than 300. Sandwell had the weakest linear correlation with higher counts of crime in all LSOAs. This highlights that not all areas with a high deprivation score have high crime counts, and vice versa, the areas with lower deprivation levels still see high levels of crime. \n",
    "\n",
    "We will continue this analysis by looking into which areas have higher rates of different types of crime. This may allow us to understand why we haven not seen a strong positive correlation as expected. "
   ]
  },
  {
   "cell_type": "markdown",
   "metadata": {},
   "source": [
    "## Research Question 2: Which district and Lower Layer Super Output Areas (LSOAs) have higher rates of crime?"
   ]
  },
  {
   "cell_type": "code",
   "execution_count": null,
   "metadata": {},
   "outputs": [],
   "source": [
    "# Groupby district\n",
    "d = {\"LSOA name\": \"first\", \"Crime ID\": \"count\", \"Population\": \"first\", \"Index of Multiple Deprivation (IMD)\": \"first\"}\n",
    "District_crime_count_df = West_midlands_df1.groupby([\"District code (2019)\"], as_index=False).agg(d)\n",
    "\n",
    "# Rename columns\n",
    "District_crime_count_df = District_crime_count_df.rename(columns={\"Crime ID\":\"District crime count\"})\n",
    "\n",
    "# Total District Crime Count \n",
    "Total_crime_sum = District_crime_count_df[\"District crime count\"].sum()\n",
    "\n",
    "# Total Population for all Districts \n",
    "Total_pop = District_crime_count_df[\"Population\"].sum()\n",
    "\n",
    "# Change District Crime Count and population to percentages to plot them on the same bar plot\n",
    "District_pop = District_crime_count_df[\"Population\"].div(Total_pop)*100\n",
    "District_crime = District_crime_count_df[\"District crime count\"].div(Total_crime_sum)*100\n",
    "\n",
    "# Dataframe with added percentages \n",
    "District_crime_count_df[\"District Population %\"] = District_pop\n",
    "District_crime_count_df[\"District Crime Count %\"] = District_crime\n",
    "\n",
    "District_crime_count_df\n"
   ]
  },
  {
   "cell_type": "markdown",
   "metadata": {},
   "source": [
    "The above df presents an interesting pattern which we did not expect. Solihull has a lower district crime count overall but a higher index of multiple deprivation than districts such as Wolverhampton, Walsall, Dudley, Sanwell, and Coventry which have higher crime counts but lower IMD scores. "
   ]
  },
  {
   "cell_type": "code",
   "execution_count": null,
   "metadata": {},
   "outputs": [],
   "source": [
    "# Visualise data with bar plot \n",
    "District_crime_count_df.plot(x = \"LSOA name\", y = [\"District Population %\", \"District Crime Count %\"], kind =\"bar\", width=1, \n",
    "                             edgecolor=\"white\", linewidth=10)\n",
    "\n",
    "plt.title(\"Count of District Crime and Population\", fontsize=40)\n",
    "plt.xlabel(\"West Midlands District\", fontsize=40)\n",
    "plt.ylabel(\"Count of Crime and Population (%)\", fontsize=40)\n",
    "plt.xticks(rotation=55, fontsize=35)\n",
    "plt.yticks(fontsize=35)\n",
    "plt.legend(loc =\"upper right\", fontsize=40)\n",
    "plt.tight_layout\n",
    "plt.savefig(\"output/Count of Crime and Population (%).png\")\n",
    "plt.show()"
   ]
  },
  {
   "cell_type": "markdown",
   "metadata": {},
   "source": [
    "The above bar plot shows that Birmingham sees the highest levels of crime by count but also shows that there is a higher percentage of crimes compared to the percentage of population in the West Midlands. This is also similar for Wolverhampton. This shows that the level of crime in Birmingham and Wolverhampton as districts is disproportionate to the population size. \n",
    "\n",
    "This bar chart also shows that it is significantly safer in Dudley and Solihull as the percentage of total crime is lower than the percentage of the total population."
   ]
  },
  {
   "cell_type": "markdown",
   "metadata": {},
   "source": [
    "We have used a heatmap to visualise the areas within districts that have a higher exposure to crime. "
   ]
  },
  {
   "cell_type": "code",
   "execution_count": null,
   "metadata": {},
   "outputs": [],
   "source": [
    "# Crime counts in all LSOA areas\n",
    "LSOA_crime_count_df\n",
    "LSOA_crime_locations = LSOA_crime_count_df[[\"Latitude\", \"Longitude\"]]\n",
    "incedents = LSOA_crime_count_df[\"LSOA crime count\"].astype(float)\n",
    "figure_layout = {\n",
    "    'width': '800px',\n",
    "    'height': '600px',\n",
    "    'padding': '1px',\n",
    "    'margin': '0 auto 0 auto'\n",
    "}\n",
    "fig1 = gmaps.figure(layout=figure_layout)\n",
    "# Create heat layer\n",
    "heat_layer = gmaps.heatmap_layer(LSOA_crime_locations, weights=incedents,\n",
    "                                 dissipating=False, max_intensity=600,\n",
    "                                 point_radius=.01)\n",
    "# Add layer\n",
    "fig1.add_layer(heat_layer)\n",
    "\n",
    "# Display figure\n",
    "fig1"
   ]
  },
  {
   "cell_type": "markdown",
   "metadata": {},
   "source": [
    "This map visualises that there are higher crime rates in different areas. Here we can see that there are higher crime rates nearer the city centres, by universities, and near hospitals."
   ]
  },
  {
   "cell_type": "markdown",
   "metadata": {},
   "source": [
    "## Research Question 3: What type of crime might you be exposed to in certain Districts/LSOAs?"
   ]
  },
  {
   "cell_type": "markdown",
   "metadata": {},
   "source": [
    "## Birmingham crime data."
   ]
  },
  {
   "cell_type": "code",
   "execution_count": null,
   "metadata": {},
   "outputs": [],
   "source": [
    "Birmingham = West_midlands_df1[(West_midlands_df1[\"District code (2019)\"]==\"E08000025\")]\n",
    "Birmingham.head()\n",
    "\n",
    "Birmingham[\"Crime type\"].unique()"
   ]
  },
  {
   "cell_type": "code",
   "execution_count": null,
   "metadata": {},
   "outputs": [],
   "source": [
    "b = {\"Crime type\": \"first\", \"Crime ID\": \"count\"}\n",
    "Birmingham_crime = Birmingham.groupby([\"Crime type\"], as_index=False).agg(b)\n",
    "Birmingham_crime = Birmingham_crime.rename(columns={\"Crime ID\":\"Birmingham Crime count\"})\n",
    "Birmingham_crime"
   ]
  },
  {
   "cell_type": "code",
   "execution_count": null,
   "metadata": {},
   "outputs": [],
   "source": [
    "labels = [\"Anti-social behaviour\", \"Bicycle theft\", \"Burglary\", \"Criminal damage and arson\", \"Drugs\", \"Other crime\", \"Other theft\", \"Posessions of weapons\", \"Public order\", \"Robbery\", \"Shoplifting\", \"Theft from the person\", \"Vehicle crime\", \"Violence and sexual offences\"]\n",
    "sizes = Birmingham_crime[\"Birmingham Crime count\"]\n",
    "explode = (0, 0, 0, 0, 0, 0, 0, 0, 0, 0, 0, 0 , 0 , 0.1)\n",
    "plt.pie(sizes, \n",
    "        labels = labels,\n",
    "        explode = explode,\n",
    "        autopct = \"%1.1f%%\",\n",
    "       textprops={'fontsize': 18})\n",
    "plt.title(\"Birmingham Crime Type (%) 2019\", fontsize=30)\n",
    "plt.savefig(\"output/Birmingham Crime Type (%) 2019.png\")"
   ]
  },
  {
   "cell_type": "markdown",
   "metadata": {},
   "source": [
    "In Birmingham you are more likley to be exposed to violence and sexual offences which made up nearly a third of the crime in 2019. Anti-social behaviour and vehicle crime are the next two significant crime types in Birmingham."
   ]
  },
  {
   "cell_type": "markdown",
   "metadata": {},
   "source": [
    "We have chosen the LSOA with the highest crime rate in order to deeper dive into the data and see if we can find any patterns."
   ]
  },
  {
   "cell_type": "code",
   "execution_count": null,
   "metadata": {},
   "outputs": [],
   "source": [
    "# Find max count tyoe for Birmingaham \n",
    "B_LSOA_crime_count_df = LSOA_crime_count_df[(LSOA_crime_count_df[\"District code (2019)\"]==\"E08000025\")]\n",
    "print(B_LSOA_crime_count_df[B_LSOA_crime_count_df[\"LSOA crime count\"] == B_LSOA_crime_count_df[\"LSOA crime count\"].max()])"
   ]
  },
  {
   "cell_type": "code",
   "execution_count": null,
   "metadata": {},
   "outputs": [],
   "source": [
    "# # Here we have used the 'Maplt API' to find out which area this code represents\n",
    "# url = mapit.mysociety.org/code/gss/\n",
    "# query_url = url+code\n",
    "\n",
    "# code = E08000025\n",
    "# code/ons/138A"
   ]
  },
  {
   "cell_type": "code",
   "execution_count": null,
   "metadata": {},
   "outputs": [],
   "source": [
    "# Show crime types for LSOA\n",
    "Birmingham_max_crime = West_midlands_df1[(West_midlands_df1[\"LSOA name\"]==\"Birmingham 138A\")]\n",
    "\n",
    "bm = {\"Crime type\": \"first\", \"Crime ID\": \"count\"}\n",
    "Birmingham_max_crime_count = Birmingham_max_crime.groupby([\"Crime type\"], as_index=False).agg(b)\n",
    "Birmingham_max_crime_count = Birmingham_max_crime_count.rename(columns={\"Crime ID\":\"Birmingham 138A Crime count\"})\n",
    "Birmingham_max_crime_count\n",
    "\n",
    "labels = [\"Anti-social behaviour\", \"Bicycle theft\", \"Burglary\", \"Criminal damage and arson\", \"Drugs\", \"Other crime\", \"Other theft\", \"Posessions of weapons\", \"Public order\", \"Robbery\", \"Shoplifting\", \"Theft from the person\", \"Vehicle crime\", \"Violence and sexual offences\"]\n",
    "sizes = Birmingham_max_crime_count[\"Birmingham 138A Crime count\"]\n",
    "explode = (0, 0, 0, 0, 0, 0, 0, 0, 0, 0, 0.1, 0 , 0 , 0.1)\n",
    "plt.pie(sizes, \n",
    "        labels = labels,\n",
    "        explode = explode,\n",
    "        autopct = \"%1.1f%%\",\n",
    "       textprops={'fontsize': 18})\n",
    "plt.title(\"Birmingham 138A Crime Type (%) 2019\", fontsize=30)\n",
    "plt.savefig(\"output/Birmingham 138A Crime Type (%) 2019.png\")"
   ]
  },
  {
   "cell_type": "markdown",
   "metadata": {},
   "source": [
    "Interestingly, whilst violence and sexual offences make up a signficant proportion of crimes, shoplifting has a slightly higher percentage. This means that in the LSOA area with the max crime count, shoplifting is the crime that you would be the most exposed to. Vehicle crime is significantly lower than Birmingham as a whole. We believe that the reason for this is due to this LSOA covering the area between Birmingham New Street and Birmingham Snow Hill station. There are a higher desnity of shops and less cars in the city centre."
   ]
  },
  {
   "cell_type": "markdown",
   "metadata": {},
   "source": [
    "## Coventry crime data."
   ]
  },
  {
   "cell_type": "code",
   "execution_count": null,
   "metadata": {},
   "outputs": [],
   "source": [
    "Coventry = West_midlands_df1[(West_midlands_df1[\"District code (2019)\"]==\"E08000026\")]\n",
    "c = {\"Crime type\": \"first\", \"Crime ID\": \"count\"}\n",
    "Coventry_crime = Coventry.groupby([\"Crime type\"], as_index=False).agg(c)\n",
    "Coventry_crime = Coventry_crime.rename(columns={\"Crime ID\":\"Coventry Crime count\"})\n",
    "Coventry_crime"
   ]
  },
  {
   "cell_type": "code",
   "execution_count": null,
   "metadata": {},
   "outputs": [],
   "source": [
    "labels = [\"Anti-social behaviour\", \"Bicycle theft\", \"Burglary\", \"Criminal damage and arson\", \"Drugs\", \"Other crime\", \"Other theft\", \"Posessions of weapons\", \"Public order\", \"Robbery\", \"Shoplifting\", \"Theft from the person\", \"Vehicle crime\", \"Violence and sexual offences\"]\n",
    "sizes = Coventry_crime[\"Coventry Crime count\"]\n",
    "explode = (0, 0, 0, 0, 0, 0, 0, 0, 0, 0, 0, 0 , 0 , 0.1)\n",
    "plt.pie(sizes, \n",
    "        labels = labels,\n",
    "        explode = explode,\n",
    "        autopct = \"%1.1f%%\",\n",
    "       textprops={'fontsize': 18})\n",
    "plt.title(\"Coventry Crime Type (%) 2019\", fontsize=30)\n",
    "plt.savefig(\"output/Coventry Crime Type (%) 2019.png\")"
   ]
  },
  {
   "cell_type": "markdown",
   "metadata": {},
   "source": [
    "The crime type in Coventry follows the same trend as the crime types in Birmingham. One notable difference, howeever, is the higher rate of bike theft. We will explore this further later on."
   ]
  },
  {
   "cell_type": "markdown",
   "metadata": {},
   "source": [
    "## Dudley crime data"
   ]
  },
  {
   "cell_type": "code",
   "execution_count": null,
   "metadata": {},
   "outputs": [],
   "source": [
    "Dudley = West_midlands_df1[(West_midlands_df1[\"District code (2019)\"]==\"E08000027\")]\n",
    "du = {\"Crime type\": \"first\", \"Crime ID\": \"count\"}\n",
    "Dudley_crime = Dudley.groupby([\"Crime type\"], as_index=False).agg(du)\n",
    "Dudley_crime = Dudley_crime.rename(columns={\"Crime ID\":\"Dudley Crime count\"})\n",
    "Dudley_crime"
   ]
  },
  {
   "cell_type": "code",
   "execution_count": null,
   "metadata": {},
   "outputs": [],
   "source": [
    "labels = [\"Anti-social behaviour\", \"Bicycle theft\", \"Burglary\", \"Criminal damage and arson\", \"Drugs\", \"Other crime\", \"Other theft\", \"Posessions of weapons\", \"Public order\", \"Robbery\", \"Shoplifting\", \"Theft from the person\", \"Vehicle crime\", \"Violence and sexual offences\"]\n",
    "sizes = Dudley_crime[\"Dudley Crime count\"]\n",
    "explode = (0, 0, 0, 0, 0, 0, 0, 0, 0, 0, 0, 0 , 0 , 0.1)\n",
    "plt.pie(sizes, \n",
    "        labels = labels,\n",
    "        explode = explode,\n",
    "        autopct = \"%1.1f%%\",\n",
    "       textprops={'fontsize': 18})\n",
    "plt.title(\"Dudley Crime Type (%) 2019\", fontsize=30)\n",
    "plt.savefig(\"output/Dudley Crime Type (%) 2019.png\")"
   ]
  },
  {
   "cell_type": "markdown",
   "metadata": {},
   "source": [
    "This pie chart shows that Dudley has a higher rate of violence and sexual offences and burglary but is the least riskiest place to leave your bike. Again, this data shows that the crime types and the percentage of these crimes are similar to the other districts."
   ]
  },
  {
   "cell_type": "markdown",
   "metadata": {},
   "source": [
    "## Sandwell crime data"
   ]
  },
  {
   "cell_type": "code",
   "execution_count": null,
   "metadata": {},
   "outputs": [],
   "source": [
    "Sandwell = West_midlands_df1[(West_midlands_df1[\"District code (2019)\"]==\"E08000028\")]\n",
    "s = {\"Crime type\": \"first\", \"Crime ID\": \"count\"}\n",
    "Sandwell_crime = Sandwell.groupby([\"Crime type\"], as_index=False).agg(s)\n",
    "Sandwell_crime = Sandwell_crime.rename(columns={\"Crime ID\":\"Sandwell Crime count\"})\n",
    "Sandwell_crime"
   ]
  },
  {
   "cell_type": "code",
   "execution_count": null,
   "metadata": {},
   "outputs": [],
   "source": [
    "labels = [\"Anti-social behaviour\", \"Bicycle theft\", \"Burglary\", \"Criminal damage and arson\", \"Drugs\", \"Other crime\", \"Other theft\", \"Posessions of weapons\", \"Public order\", \"Robbery\", \"Shoplifting\", \"Theft from the person\", \"Vehicle crime\", \"Violence and sexual offences\"]\n",
    "sizes = Sandwell_crime[\"Sandwell Crime count\"]\n",
    "explode = (0, 0, 0, 0, 0, 0, 0, 0, 0, 0, 0, 0 , 0 , 0.1)\n",
    "plt.pie(sizes, \n",
    "        labels = labels,\n",
    "        explode = explode,\n",
    "        autopct = \"%1.1f%%\",\n",
    "       textprops={'fontsize': 18})\n",
    "plt.title(\"Sandwell Crime Type (%) 2019\", fontsize=30)\n",
    "plt.savefig(\"output/Sandwell Crime Type (%) 2019.png\")"
   ]
  },
  {
   "cell_type": "markdown",
   "metadata": {},
   "source": [
    "In Sandwell bike theft is also a very small percentage, but the perecentage of violent and sexual offences is the second highest in the West Midlands. It made up over a third of crimes in 2019."
   ]
  },
  {
   "cell_type": "markdown",
   "metadata": {},
   "source": [
    "## Solihull crime data"
   ]
  },
  {
   "cell_type": "code",
   "execution_count": null,
   "metadata": {},
   "outputs": [],
   "source": [
    "Solihull = West_midlands_df1[(West_midlands_df1[\"District code (2019)\"]==\"E08000029\")]\n",
    "so = {\"Crime type\": \"first\", \"Crime ID\": \"count\"}\n",
    "Solihull_crime = Solihull.groupby([\"Crime type\"], as_index=False).agg(so)\n",
    "Solihull_crime = Solihull_crime.rename(columns={\"Crime ID\":\"Solihull Crime count\"})\n",
    "Solihull_crime"
   ]
  },
  {
   "cell_type": "code",
   "execution_count": null,
   "metadata": {},
   "outputs": [],
   "source": [
    "labels = [\"Anti-social behaviour\", \"Bicycle theft\", \"Burglary\", \"Criminal damage and arson\", \"Drugs\", \"Other crime\", \"Other theft\", \"Posessions of weapons\", \"Public order\", \"Robbery\", \"Shoplifting\", \"Theft from the person\", \"Vehicle crime\", \"Violence and sexual offences\"]\n",
    "sizes = Solihull_crime[\"Solihull Crime count\"]\n",
    "explode = (0, 0, 0, 0, 0, 0, 0, 0, 0, 0, 0, 0 , 0 , 0.1)\n",
    "plt.pie(sizes, \n",
    "        labels = labels,\n",
    "        explode = explode,\n",
    "        autopct = \"%1.1f%%\",\n",
    "       textprops={'fontsize': 18})\n",
    "plt.title(\"Solihull Crime Type (%) 2019\", fontsize=30)\n",
    "plt.savefig(\"output/Solihull Crime Type (%) 2019.png\")"
   ]
  },
  {
   "cell_type": "markdown",
   "metadata": {},
   "source": [
    "The violence and sexual offences rate in Solihull is still the most significant crime but the percentage is much lower than the other districts. The rate of vehicle crime, other theft, and burglary is higher than the other districts.\n",
    "\n",
    "We decided to look into LSOAs for Solihull as it the crime data and IMD score did not behave in the way we expected."
   ]
  },
  {
   "cell_type": "code",
   "execution_count": null,
   "metadata": {},
   "outputs": [],
   "source": [
    "# Find max count tyoe for Solihull \n",
    "B_LSOA_crime_count_df = LSOA_crime_count_df[(LSOA_crime_count_df[\"District code (2019)\"]==\"E08000029\")]\n",
    "print(B_LSOA_crime_count_df[B_LSOA_crime_count_df[\"LSOA crime count\"] == B_LSOA_crime_count_df[\"LSOA crime count\"].max()])"
   ]
  },
  {
   "cell_type": "code",
   "execution_count": null,
   "metadata": {},
   "outputs": [],
   "source": [
    "# Show crime types for LSOA\n",
    "Solihull_max_crime = West_midlands_df1[(West_midlands_df1[\"LSOA name\"]==\"Solihull 009A\")]\n",
    "\n",
    "# USE API to find out which area this is??\n",
    "\n",
    "sol = {\"Crime type\": \"first\", \"Crime ID\": \"count\"}\n",
    "Solihull_max_crime_count = Solihull_max_crime.groupby([\"Crime type\"], as_index=False).agg(sol)\n",
    "Solihull_max_crime_count = Solihull_max_crime_count.rename(columns={\"Crime ID\":\"Solihull 009A Crime count\"})\n",
    "Solihull_max_crime_count\n",
    "\n",
    "labels = [\"Anti-social behaviour\", \"Bicycle theft\", \"Burglary\", \"Criminal damage and arson\", \"Drugs\", \"Other crime\", \"Other theft\", \"Posessions of weapons\", \"Public order\", \"Robbery\", \"Shoplifting\", \"Theft from the person\", \"Vehicle crime\", \"Violence and sexual offences\"]\n",
    "sizes = Solihull_max_crime_count[\"Solihull 009A Crime count\"]\n",
    "explode = (0, 0, 0, 0, 0, 0, 0.1, 0, 0, 0, 0, 0 , 0.1, 0)\n",
    "plt.pie(sizes, \n",
    "        labels = labels,\n",
    "        explode = explode,\n",
    "        autopct = \"%1.1f%%\",\n",
    "       textprops={'fontsize': 18})\n",
    "plt.title(\"Solihull 009A Crime Type (%) 2019\", fontsize=30)\n",
    "plt.savefig(\"output/Solihull 009A Crime Type (%) 2019.png\")"
   ]
  },
  {
   "cell_type": "markdown",
   "metadata": {},
   "source": [
    "The area with the highest crime in Solihull shows us something interesting which does not reflect the overall pattern of crime types in the West Midlands in 2019, but it does correlate with the overall percentage of crime types in Solihull. The percentage of vehicle crime and other theft is much higher than other districts and the LSAO with the max cime rate in Birmingham. Interestingly possessions of weapons is another crime type with has a higher percentage than the other districts. "
   ]
  },
  {
   "cell_type": "markdown",
   "metadata": {},
   "source": [
    "## Walsall crime data "
   ]
  },
  {
   "cell_type": "code",
   "execution_count": null,
   "metadata": {},
   "outputs": [],
   "source": [
    "Walsall = West_midlands_df1[(West_midlands_df1[\"District code (2019)\"]==\"E08000030\")]\n",
    "w = {\"Crime type\": \"first\", \"Crime ID\": \"count\"}\n",
    "Walsall_crime = Walsall.groupby([\"Crime type\"], as_index=False).agg(w)\n",
    "Walsall_crime = Walsall_crime.rename(columns={\"Crime ID\":\"Walsall Crime count\"})\n",
    "Walsall_crime"
   ]
  },
  {
   "cell_type": "code",
   "execution_count": null,
   "metadata": {},
   "outputs": [],
   "source": [
    "labels = [\"Anti-social behaviour\", \"Bicycle theft\", \"Burglary\", \"Criminal damage and arson\", \"Drugs\", \"Other crime\", \"Other theft\", \"Posessions of weapons\", \"Public order\", \"Robbery\", \"Shoplifting\", \"Theft from the person\", \"Vehicle crime\", \"Violence and sexual offences\"]\n",
    "sizes = Walsall_crime[\"Walsall Crime count\"]\n",
    "explode = (0, 0, 0, 0, 0, 0, 0, 0, 0, 0, 0, 0 , 0 , 0.1)\n",
    "plt.pie(sizes, \n",
    "        labels = labels,\n",
    "        explode = explode,\n",
    "        autopct = \"%1.1f%%\",\n",
    "       textprops={'fontsize': 18})\n",
    "plt.title(\"Walsall Crime Type (%) 2019\", fontsize=30)\n",
    "plt.savefig(\"output/Walsall Crime Type (%) 2019.png\")"
   ]
  },
  {
   "cell_type": "markdown",
   "metadata": {},
   "source": [
    "The Walsall piechart reflects the data from the other districts. There is nothing too disimilar to the crime type percentages in the rest of the West Midlands."
   ]
  },
  {
   "cell_type": "markdown",
   "metadata": {},
   "source": [
    "## Wolverhampton crime data"
   ]
  },
  {
   "cell_type": "code",
   "execution_count": null,
   "metadata": {
    "scrolled": true
   },
   "outputs": [],
   "source": [
    "Wolverhampton = West_midlands_df1[(West_midlands_df1[\"District code (2019)\"]==\"E08000031\")]\n",
    "wo = {\"Crime type\": \"first\", \"Crime ID\": \"count\"}\n",
    "Wolverhampton_crime = Wolverhampton.groupby([\"Crime type\"], as_index=False).agg(wo)\n",
    "Wolverhampton_crime = Wolverhampton_crime.rename(columns={\"Crime ID\":\"Wolverhampton Crime count\"})\n",
    "Wolverhampton_crime"
   ]
  },
  {
   "cell_type": "code",
   "execution_count": null,
   "metadata": {},
   "outputs": [],
   "source": [
    "labels = [\"Anti-social behaviour\", \"Bicycle theft\", \"Burglary\", \"Criminal damage and arson\", \"Drugs\", \"Other crime\", \"Other theft\", \"Posessions of weapons\", \"Public order\", \"Robbery\", \"Shoplifting\", \"Theft from the person\", \"Vehicle crime\", \"Violence and sexual offences\"]\n",
    "sizes = Wolverhampton_crime[\"Wolverhampton Crime count\"]\n",
    "explode = (0, 0, 0, 0, 0, 0, 0, 0, 0, 0, 0, 0 , 0 , 0.1)\n",
    "plt.pie(sizes, \n",
    "        labels = labels,\n",
    "        explode = explode,\n",
    "        autopct = \"%1.1f%%\",\n",
    "       textprops={'fontsize': 18})\n",
    "plt.title(\"Wolverhampton Crime Type (%) 2019\", fontsize=30)\n",
    "plt.savefig(\"output/Wolverhampton Crime Type (%) 2019.png\")"
   ]
  },
  {
   "cell_type": "markdown",
   "metadata": {},
   "source": [
    "Wolverhampton has the highest percentage of violent and sexual offences in the West Midlands. "
   ]
  },
  {
   "cell_type": "markdown",
   "metadata": {},
   "source": [
    "Overall: We found that despite the difference in IMD scores for each district the type of crime and the percentage of crime count in 2019 was mostly similar across the West Midlands. \n",
    "\n",
    "To test this we chose a sample of LSOA's with an IMD score of less than 5 to ascertain what types of crimes were committed in areas with low IMD scores vs high IMD scores. "
   ]
  },
  {
   "cell_type": "code",
   "execution_count": null,
   "metadata": {},
   "outputs": [],
   "source": [
    "# Filter dataframe by IMD scores < 10\n",
    "\n",
    "low_IMD = West_midlands_df1.loc[(West_midlands_df1[\"LSOA IMD Score\"] < 5)]\n",
    "l = {\"Crime type\": \"first\", \"Crime ID\": \"count\"}\n",
    "low_IMD_crime = low_IMD.groupby([\"Crime type\"], as_index=False).agg(l)\n",
    "low_IMD_crime= low_IMD_crime.rename(columns={\"Crime ID\":\"Crime count\"})\n",
    "low_IMD_crime"
   ]
  },
  {
   "cell_type": "code",
   "execution_count": null,
   "metadata": {},
   "outputs": [],
   "source": [
    "labels = [\"Anti-social behaviour\", \"Bicycle theft\", \"Burglary\", \"Criminal damage and arson\", \"Drugs\", \"Other crime\", \"Other theft\", \"Posessions of weapons\", \"Public order\", \"Robbery\", \"Shoplifting\", \"Theft from the person\", \"Vehicle crime\", \"Violence and sexual offences\"]\n",
    "sizes = low_IMD_crime[\"Crime count\"]\n",
    "explode = (0, 0, 0, 0, 0, 0, 0, 0, 0, 0, 0, 0 , 0 , 0.1)\n",
    "plt.pie(sizes, \n",
    "        labels = labels,\n",
    "        explode = explode,\n",
    "        autopct = \"%1.1f%%\",\n",
    "       textprops={'fontsize': 18})\n",
    "plt.title(\"Low IMD Crime Type (%) 2019\", fontsize=30)\n",
    "plt.savefig(\"output/Low IMD Crime Type (%) 2019.png\")"
   ]
  },
  {
   "cell_type": "markdown",
   "metadata": {},
   "source": [
    "This piechart shows that Burglary, Shoplifting, Criminal damage and arson is higher in LSOAs with lower IMD scores. Vehicle crime is massivly higher in in LSOAs with lower IMD scores. However, Theft from person and public order crime is much lower than \n",
    "LSOAs with higher IMD scores."
   ]
  },
  {
   "cell_type": "markdown",
   "metadata": {},
   "source": [
    "##  District heatmaps "
   ]
  },
  {
   "cell_type": "markdown",
   "metadata": {},
   "source": [
    "We have used heatmaps to further this point. The heatmaps plot all the crime for each district. So we can see how the crime is distributed geographically."
   ]
  },
  {
   "cell_type": "markdown",
   "metadata": {},
   "source": [
    "Birmingham crime heatmap 2019:"
   ]
  },
  {
   "cell_type": "code",
   "execution_count": null,
   "metadata": {},
   "outputs": [],
   "source": [
    "birmingham_df\n",
    "LSOA_crime_locations1 = birmingham_df[[\"Latitude\", \"Longitude\"]]\n",
    "incedents1 = birmingham_df[\"LSOA crime count\"].astype(float)\n",
    "\n",
    "figure_layout = {\n",
    "    'width': '800px',\n",
    "    'height': '600px',\n",
    "    'padding': '1px',\n",
    "    'margin': '0 auto 0 auto'\n",
    "}\n",
    "fig1 = gmaps.figure(layout=figure_layout)\n",
    "\n",
    "\n",
    "\n",
    "# Create heat layer\n",
    "heat_layer = gmaps.heatmap_layer(LSOA_crime_locations1, weights=incedents1, \n",
    "                                 dissipating=False, max_intensity=600,\n",
    "                                 point_radius=.01)\n",
    "\n",
    "\n",
    "# Add layer\n",
    "fig1.add_layer(heat_layer)\n",
    "\n",
    "# Display figure\n",
    "fig1"
   ]
  },
  {
   "cell_type": "markdown",
   "metadata": {},
   "source": [
    "Coventry crime heatmap 2019:"
   ]
  },
  {
   "cell_type": "code",
   "execution_count": null,
   "metadata": {},
   "outputs": [],
   "source": [
    "coventry_df\n",
    "LSOA_crime_locations2 = coventry_df[[\"Latitude\", \"Longitude\"]]\n",
    "incedents2 = coventry_df[\"LSOA crime count\"].astype(float)\n",
    "\n",
    "figure_layout = {\n",
    "    'width': '800px',\n",
    "    'height': '600px',\n",
    "    'padding': '1px',\n",
    "    'margin': '0 auto 0 auto'\n",
    "}\n",
    "fig2 = gmaps.figure(layout=figure_layout)\n",
    "\n",
    "\n",
    "\n",
    "# Create heat layer\n",
    "heat_layer = gmaps.heatmap_layer(LSOA_crime_locations2, weights=incedents2, \n",
    "                                 dissipating=False, max_intensity=600,\n",
    "                                 point_radius=.01)\n",
    "\n",
    "\n",
    "# Add layer\n",
    "fig2.add_layer(heat_layer)\n",
    "\n",
    "# Display figure\n",
    "fig2"
   ]
  },
  {
   "cell_type": "markdown",
   "metadata": {},
   "source": [
    "Solihull crime heatmap:"
   ]
  },
  {
   "cell_type": "code",
   "execution_count": null,
   "metadata": {},
   "outputs": [],
   "source": [
    "solihull_df\n",
    "LSOA_crime_locations3 = solihull_df[[\"Latitude\", \"Longitude\"]]\n",
    "incedents3 = solihull_df[\"LSOA crime count\"].astype(float)\n",
    "\n",
    "figure_layout = {\n",
    "    'width': '800px',\n",
    "    'height': '600px',\n",
    "    'padding': '1px',\n",
    "    'margin': '0 auto 0 auto'\n",
    "}\n",
    "fig3 = gmaps.figure(layout=figure_layout)\n",
    "\n",
    "\n",
    "\n",
    "# Create heat layer\n",
    "heat_layer = gmaps.heatmap_layer(LSOA_crime_locations3, weights=incedents3, \n",
    "                                 dissipating=False, max_intensity=600,\n",
    "                                 point_radius=.01)\n",
    "\n",
    "\n",
    "# Add layer\n",
    "fig3.add_layer(heat_layer)\n",
    "\n",
    "# Display figure\n",
    "fig3"
   ]
  },
  {
   "cell_type": "markdown",
   "metadata": {},
   "source": [
    "Walsall crime heatmap 2019:"
   ]
  },
  {
   "cell_type": "code",
   "execution_count": null,
   "metadata": {},
   "outputs": [],
   "source": [
    "walsall_df\n",
    "LSOA_crime_locations4 = walsall_df[[\"Latitude\", \"Longitude\"]]\n",
    "incedents4 = walsall_df[\"LSOA crime count\"].astype(float)\n",
    "\n",
    "figure_layout = {\n",
    "    'width': '800px',\n",
    "    'height': '600px',\n",
    "    'padding': '1px',\n",
    "    'margin': '0 auto 0 auto'\n",
    "}\n",
    "fig4 = gmaps.figure(layout=figure_layout)\n",
    "\n",
    "\n",
    "\n",
    "# Create heat layer\n",
    "heat_layer = gmaps.heatmap_layer(LSOA_crime_locations4, weights=incedents4, \n",
    "                                 dissipating=False, max_intensity=600,\n",
    "                                 point_radius=.01)\n",
    "\n",
    "\n",
    "# Add layer\n",
    "fig4.add_layer(heat_layer)\n",
    "\n",
    "# Display figure\n",
    "fig4"
   ]
  },
  {
   "cell_type": "markdown",
   "metadata": {},
   "source": [
    "Sandwell crime heatmap 2019:"
   ]
  },
  {
   "cell_type": "code",
   "execution_count": null,
   "metadata": {},
   "outputs": [],
   "source": [
    "sandwell_df\n",
    "LSOA_crime_locations5 = sandwell_df[[\"Latitude\", \"Longitude\"]]\n",
    "incedents5 = sandwell_df[\"LSOA crime count\"].astype(float)\n",
    "\n",
    "figure_layout = {\n",
    "    'width': '800px',\n",
    "    'height': '600px',\n",
    "    'padding': '1px',\n",
    "    'margin': '0 auto 0 auto'\n",
    "}\n",
    "fig5 = gmaps.figure(layout=figure_layout)\n",
    "\n",
    "\n",
    "\n",
    "# Create heat layer\n",
    "heat_layer = gmaps.heatmap_layer(LSOA_crime_locations5, weights=incedents5, \n",
    "                                 dissipating=False, max_intensity=600,\n",
    "                                 point_radius=.01)\n",
    "\n",
    "\n",
    "# Add layer\n",
    "fig5.add_layer(heat_layer)\n",
    "\n",
    "# Display figure\n",
    "fig5"
   ]
  },
  {
   "cell_type": "markdown",
   "metadata": {},
   "source": [
    "Wolverhampton crime heatmap 2019:"
   ]
  },
  {
   "cell_type": "code",
   "execution_count": null,
   "metadata": {},
   "outputs": [],
   "source": [
    "wolverhampton_df\n",
    "LSOA_crime_locations6 = wolverhampton_df[[\"Latitude\", \"Longitude\"]]\n",
    "incedents6 = wolverhampton_df[\"LSOA crime count\"].astype(float)\n",
    "\n",
    "figure_layout = {\n",
    "    'width': '800px',\n",
    "    'height': '600px',\n",
    "    'padding': '1px',\n",
    "    'margin': '0 auto 0 auto'\n",
    "}\n",
    "fig6 = gmaps.figure(layout=figure_layout)\n",
    "\n",
    "\n",
    "\n",
    "# Create heat layer\n",
    "heat_layer = gmaps.heatmap_layer(LSOA_crime_locations6, weights=incedents6, \n",
    "                                 dissipating=False, max_intensity=600,\n",
    "                                 point_radius=.01)\n",
    "\n",
    "\n",
    "# Add layer\n",
    "fig6.add_layer(heat_layer)\n",
    "\n",
    "# Display figure\n",
    "fig6"
   ]
  },
  {
   "cell_type": "markdown",
   "metadata": {},
   "source": [
    "The above heatmpas show that crime was concentrated in the centres of the districts where we can assume that there are city centres and shopping centres. The heatmaps also show that there are smaller pockets of high crime rates in other areas within the districts. This is not entirely true for Birmingham, however, the city centre does follow this trend but there are pockets of high crime rates in many areas. This supports the other tests and visualisations so far which highlight that high crime rates tend to occur in city centres and around universities.\n",
    "\n",
    "Interestingly this idea is evidently true for the crime type: bike theft."
   ]
  },
  {
   "cell_type": "markdown",
   "metadata": {},
   "source": [
    "## Research Question 4: Where is the safest place to park your bike?"
   ]
  },
  {
   "cell_type": "markdown",
   "metadata": {},
   "source": [
    "We have decided to focus on bike crime as the levels of bike crime are statistically less than other crimes in the West Midlands. We also notice on the heatmaps that there seemed to be a pattern in location of bike thefts."
   ]
  },
  {
   "cell_type": "code",
   "execution_count": null,
   "metadata": {},
   "outputs": [],
   "source": [
    "# Create IMD score dataframe\n",
    "IMD_score_df = pd.read_csv('IMD Score.csv', index_col = 0)\n",
    "IMD_score_df.dropna(inplace = True) \n",
    "IMD_score_df.head()"
   ]
  },
  {
   "cell_type": "code",
   "execution_count": null,
   "metadata": {},
   "outputs": [],
   "source": [
    "West_midlands_df1.columns"
   ]
  },
  {
   "cell_type": "code",
   "execution_count": null,
   "metadata": {},
   "outputs": [],
   "source": [
    "# Collect a list of relevant column names and save to a variable\n",
    "columns = [\n",
    "    \"LSOA code\",\n",
    "    \"LSOA name\",\n",
    "    \"LSOA IMD Score\",\n",
    "    \"LONG_\",\n",
    "    \"LAT\",\n",
    "    \"Crime type\"\n",
    "]\n",
    "\n",
    "# Filter the data so that only those Bike thefts  are in a DataFrame\n",
    "bike_theft_df = West_midlands_df1.loc[West_midlands_df1[\"Crime type\"] == \"Bicycle theft\", columns]\n",
    "# count the relevant crime types and save to a variable \n",
    "bike_theft_counts = bike_theft_df[\"LSOA code\"].value_counts()\n",
    "# create a pd dataframe and save to a variable\n",
    "bike_theft_counts_df = pd.DataFrame(bike_theft_counts)\n",
    "# Convert the column name into \"Bike theft count\"\n",
    "bike_theft_counts_df = bike_theft_counts_df.rename(\n",
    "    columns={\"LSOA code\": \"Bike theft count\"})\n",
    "# Set new index to LSOA code\n",
    "bike_theft_counts_df = bike_theft_counts_df.rename_axis(\"LSOA code\")\n",
    "# Merge two dataframes using an outer join and save to a variable\n",
    "merge1_df = pd.merge(bike_theft_counts_df,IMD_score_df, on = \"LSOA code\",how=\"outer\")\n",
    "# Drop the null values\n",
    "merge1_df.dropna(inplace = True)\n",
    "# re-order the columns and save to a variable\n",
    "bike_theft_final_df = merge1_df[[\"LSOA name\", \"LSOA IMD Score\",\n",
    "                            \"LONG__y\", \"LAT_y\", \"Bike theft count\"]]\n",
    "# display the dataframe\n",
    "bike_theft_final_df.head()"
   ]
  },
  {
   "cell_type": "code",
   "execution_count": null,
   "metadata": {},
   "outputs": [],
   "source": [
    "mean_value7 = bike_theft_final_df[\"Bike theft count\"].mean()\n",
    "mean_value7"
   ]
  },
  {
   "cell_type": "code",
   "execution_count": null,
   "metadata": {},
   "outputs": [],
   "source": [
    "locations7 = bike_theft_final_df[[\"LAT_y\", \"LONG__y\"]]\n",
    "incedents7 = bike_theft_final_df[\"Bike theft count\"].astype(float)\n",
    "\n",
    "# Convert IMD Score to a list\n",
    "\n",
    "IMD = IMD_score_df[\"LSOA name\"].tolist()\n",
    "# Create a map using coordinates to set markers\n",
    "marker_locations7 = IMD_score_df[[\"LAT_y\", \"LONG__y\"]]\n",
    "\n",
    "# Customize the size of the figure\n",
    "figure_layout = {\n",
    "    'width': '800px',\n",
    "    'height': '600px',\n",
    "    'padding': '1px',\n",
    "    'margin': '0 auto 0 auto'\n",
    "}\n",
    "fig7 = gmaps.figure(layout=figure_layout)\n",
    "\n",
    "markers = gmaps.symbol_layer(\n",
    "    marker_locations7, fill_color='rgba(0, 0, 255, 0.1)',\n",
    "    stroke_color='rgba(0, 0, 255, 0.1)', scale=2,\n",
    "    info_box_content=[f\"LSOA NAME: {name}\" for name in IMD]\n",
    ")\n",
    "\n",
    "fig7.add_layer(markers)\n",
    "\n",
    "# Create heat layer\n",
    "heat_layer = gmaps.heatmap_layer(locations7, weights=incedents7, \n",
    "                                 dissipating=False, max_intensity=mean_value7*4,\n",
    "                                 point_radius=.01)\n",
    "\n",
    "\n",
    "# Add layer\n",
    "fig7.add_layer(heat_layer)\n",
    "\n",
    "# Display figure\n",
    "fig7\n"
   ]
  },
  {
   "cell_type": "code",
   "execution_count": null,
   "metadata": {},
   "outputs": [],
   "source": [
    "# geocoordinates\n",
    "target_coordinates = \"52.489471, -1.898575\"\n",
    "target_search = \"university\"\n",
    "target_radius = 150000\n",
    "target_type = \"university\"\n",
    "\n",
    "# set up a parameters dictionary\n",
    "params = {\n",
    "    \"location\": target_coordinates,\n",
    "    \"keyword\": target_search,\n",
    "    \"radius\": target_radius,\n",
    "    \"type\": target_type,\n",
    "    \"key\": gkey\n",
    "}\n",
    "\n",
    "\n",
    "# base url\n",
    "base_url = \"https://maps.googleapis.com/maps/api/place/nearbysearch/json\"\n",
    "\n",
    "# run a request using our params dictionary\n",
    "response = requests.get(base_url, params=params)\n",
    "# convert response to json\n",
    "places_data = response.json()\n"
   ]
  },
  {
   "cell_type": "code",
   "execution_count": null,
   "metadata": {},
   "outputs": [],
   "source": [
    "places_data"
   ]
  },
  {
   "cell_type": "markdown",
   "metadata": {},
   "source": [
    "We found that bike thefts tended to occur around universities and student accommodation. "
   ]
  },
  {
   "cell_type": "markdown",
   "metadata": {},
   "source": [
    "## Conclusion"
   ]
  },
  {
   "cell_type": "markdown",
   "metadata": {},
   "source": [
    "We found the following:\n",
    "- There is a weak positive correlation between LSOA Index of Multiple Deprivation score and crime count. Walsall has the strongest positive correlation and this supports our hypothesis. The other districts do not tend to have a signifcantly maority of LSOAs that have crime counts higher than 300. Sandwell had the weakest linear correlation with higher counts of crime in all LSOAs. This highlights that not all areas with a high deprivation score have high crime counts, and vice versa, the areas with lower deprivation levels still see high levels of crime. \n",
    "- A lower IMD score does not mean that there will be less crime and a higher IMD score does not mean that there will be a higher crime rate. \n",
    "- There are higher crime rates nearer the city centres, by universities, and near hospitals.\n",
    "- Each district in the West Midlands has a similar crime trend. Violent and sexual offences make up the largest proportion of crime for all districts. And the other types of crime also follow similar patterns.\n",
    "- Depending on which district and LSOA you are in you will witness different crimes, e.g. In Solihull you are more likley to witness vehicle crime or theft, whereas in Wolverhampton there are more violent offences. \n",
    "- Wolverhampton has the highest rate of violent and sexual offences in the West Midlands.\n",
    "- Burglary, Shoplifting, Criminal damage and arson is higher in LSOAs with lower IMD scores. Vehicle crime is massively higher in in LSOAs with lower IMD scores. However, Theft from person and public order crime is much lower than LSOAs with higher IMD scores.\n",
    "- Bike thefts tended to occur around universities and student accommodation. \n",
    "- High crime rates were concentrated in the centres of the districts and there were smaller pockets of high crime rates in other areas within the districts.\n"
   ]
  }
 ],
 "metadata": {
  "kernelspec": {
   "display_name": "Python [conda env:PythonData] *",
   "language": "python",
   "name": "conda-env-PythonData-py"
  },
  "language_info": {
   "codemirror_mode": {
    "name": "ipython",
    "version": 3
   },
   "file_extension": ".py",
   "mimetype": "text/x-python",
   "name": "python",
   "nbconvert_exporter": "python",
   "pygments_lexer": "ipython3",
   "version": "3.7.11"
  }
 },
 "nbformat": 4,
 "nbformat_minor": 4
}
