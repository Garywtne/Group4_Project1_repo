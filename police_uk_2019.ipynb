{
 "cells": [
  {
   "cell_type": "markdown",
   "metadata": {},
   "source": [
    "## Importing libraries"
   ]
  },
  {
   "cell_type": "code",
   "execution_count": 36,
   "metadata": {},
   "outputs": [],
   "source": [
    "import pandas as pd\n",
    "from functools import reduce"
   ]
  },
  {
   "cell_type": "markdown",
   "metadata": {},
   "source": [
    "## Merging data"
   ]
  },
  {
   "cell_type": "code",
   "execution_count": 44,
   "metadata": {},
   "outputs": [
    {
     "data": {
      "text/html": [
       "<div>\n",
       "<style scoped>\n",
       "    .dataframe tbody tr th:only-of-type {\n",
       "        vertical-align: middle;\n",
       "    }\n",
       "\n",
       "    .dataframe tbody tr th {\n",
       "        vertical-align: top;\n",
       "    }\n",
       "\n",
       "    .dataframe thead th {\n",
       "        text-align: right;\n",
       "    }\n",
       "</style>\n",
       "<table border=\"1\" class=\"dataframe\">\n",
       "  <thead>\n",
       "    <tr style=\"text-align: right;\">\n",
       "      <th></th>\n",
       "      <th>Crime ID</th>\n",
       "      <th>Month</th>\n",
       "      <th>Reported by</th>\n",
       "      <th>Falls within</th>\n",
       "      <th>Longitude</th>\n",
       "      <th>Latitude</th>\n",
       "      <th>Location</th>\n",
       "      <th>LSOA code</th>\n",
       "      <th>LSOA name</th>\n",
       "      <th>Crime type</th>\n",
       "      <th>Last outcome category</th>\n",
       "      <th>Context</th>\n",
       "    </tr>\n",
       "  </thead>\n",
       "  <tbody>\n",
       "    <tr>\n",
       "      <th>0</th>\n",
       "      <td>b0854078f33cc4e2ecd7353c40d3a03120063e7d39134b...</td>\n",
       "      <td>2019-01</td>\n",
       "      <td>West Midlands Police</td>\n",
       "      <td>West Midlands Police</td>\n",
       "      <td>-1.850519</td>\n",
       "      <td>52.589275</td>\n",
       "      <td>On or near Crown Lane</td>\n",
       "      <td>E01009417</td>\n",
       "      <td>Birmingham 001A</td>\n",
       "      <td>Burglary</td>\n",
       "      <td>Investigation complete; no suspect identified</td>\n",
       "      <td>NaN</td>\n",
       "    </tr>\n",
       "    <tr>\n",
       "      <th>1</th>\n",
       "      <td>b48f19d1ca24bd7e1ef53952c1472314c1af57240df6d5...</td>\n",
       "      <td>2019-01</td>\n",
       "      <td>West Midlands Police</td>\n",
       "      <td>West Midlands Police</td>\n",
       "      <td>-1.850056</td>\n",
       "      <td>52.591108</td>\n",
       "      <td>On or near Walsall Road</td>\n",
       "      <td>E01009417</td>\n",
       "      <td>Birmingham 001A</td>\n",
       "      <td>Other theft</td>\n",
       "      <td>Investigation complete; no suspect identified</td>\n",
       "      <td>NaN</td>\n",
       "    </tr>\n",
       "    <tr>\n",
       "      <th>2</th>\n",
       "      <td>2ea61ee241faeac03c5595efc0e3d838d79f20f5831f24...</td>\n",
       "      <td>2019-01</td>\n",
       "      <td>West Midlands Police</td>\n",
       "      <td>West Midlands Police</td>\n",
       "      <td>-1.850772</td>\n",
       "      <td>52.588691</td>\n",
       "      <td>On or near Seymour Gardens</td>\n",
       "      <td>E01009417</td>\n",
       "      <td>Birmingham 001A</td>\n",
       "      <td>Public order</td>\n",
       "      <td>Investigation complete; no suspect identified</td>\n",
       "      <td>NaN</td>\n",
       "    </tr>\n",
       "    <tr>\n",
       "      <th>3</th>\n",
       "      <td>NaN</td>\n",
       "      <td>2019-01</td>\n",
       "      <td>West Midlands Police</td>\n",
       "      <td>West Midlands Police</td>\n",
       "      <td>-1.845780</td>\n",
       "      <td>52.593827</td>\n",
       "      <td>On or near Hook Drive</td>\n",
       "      <td>E01009418</td>\n",
       "      <td>Birmingham 001B</td>\n",
       "      <td>Anti-social behaviour</td>\n",
       "      <td>NaN</td>\n",
       "      <td>NaN</td>\n",
       "    </tr>\n",
       "    <tr>\n",
       "      <th>4</th>\n",
       "      <td>3d7dc73ef7f87bca14fd77c816c6cfc112cefe91f39d3e...</td>\n",
       "      <td>2019-01</td>\n",
       "      <td>West Midlands Police</td>\n",
       "      <td>West Midlands Police</td>\n",
       "      <td>-1.841944</td>\n",
       "      <td>52.597265</td>\n",
       "      <td>On or near Chelsea Drive</td>\n",
       "      <td>E01009418</td>\n",
       "      <td>Birmingham 001B</td>\n",
       "      <td>Vehicle crime</td>\n",
       "      <td>Investigation complete; no suspect identified</td>\n",
       "      <td>NaN</td>\n",
       "    </tr>\n",
       "  </tbody>\n",
       "</table>\n",
       "</div>"
      ],
      "text/plain": [
       "                                            Crime ID    Month  \\\n",
       "0  b0854078f33cc4e2ecd7353c40d3a03120063e7d39134b...  2019-01   \n",
       "1  b48f19d1ca24bd7e1ef53952c1472314c1af57240df6d5...  2019-01   \n",
       "2  2ea61ee241faeac03c5595efc0e3d838d79f20f5831f24...  2019-01   \n",
       "3                                                NaN  2019-01   \n",
       "4  3d7dc73ef7f87bca14fd77c816c6cfc112cefe91f39d3e...  2019-01   \n",
       "\n",
       "            Reported by          Falls within  Longitude   Latitude  \\\n",
       "0  West Midlands Police  West Midlands Police  -1.850519  52.589275   \n",
       "1  West Midlands Police  West Midlands Police  -1.850056  52.591108   \n",
       "2  West Midlands Police  West Midlands Police  -1.850772  52.588691   \n",
       "3  West Midlands Police  West Midlands Police  -1.845780  52.593827   \n",
       "4  West Midlands Police  West Midlands Police  -1.841944  52.597265   \n",
       "\n",
       "                     Location  LSOA code        LSOA name  \\\n",
       "0       On or near Crown Lane  E01009417  Birmingham 001A   \n",
       "1     On or near Walsall Road  E01009417  Birmingham 001A   \n",
       "2  On or near Seymour Gardens  E01009417  Birmingham 001A   \n",
       "3       On or near Hook Drive  E01009418  Birmingham 001B   \n",
       "4    On or near Chelsea Drive  E01009418  Birmingham 001B   \n",
       "\n",
       "              Crime type                          Last outcome category  \\\n",
       "0               Burglary  Investigation complete; no suspect identified   \n",
       "1            Other theft  Investigation complete; no suspect identified   \n",
       "2           Public order  Investigation complete; no suspect identified   \n",
       "3  Anti-social behaviour                                            NaN   \n",
       "4          Vehicle crime  Investigation complete; no suspect identified   \n",
       "\n",
       "   Context  \n",
       "0      NaN  \n",
       "1      NaN  \n",
       "2      NaN  \n",
       "3      NaN  \n",
       "4      NaN  "
      ]
     },
     "execution_count": 44,
     "metadata": {},
     "output_type": "execute_result"
    }
   ],
   "source": [
    "# There are 12 months worth of data each saved in seperate CSV files which we want to merge and view\n",
    "df1 = pd.read_csv(\"crime_data_2019/2019-01-west-midlands-street.csv\")\n",
    "df2 = pd.read_csv(\"crime_data_2019/2019-02-west-midlands-street.csv\")\n",
    "df3 = pd.read_csv(\"crime_data_2019/2019-03-west-midlands-street.csv\")\n",
    "df4 = pd.read_csv(\"crime_data_2019/2019-04-west-midlands-street.csv\")\n",
    "df5 = pd.read_csv(\"crime_data_2019/2019-05-west-midlands-street.csv\")\n",
    "df6 = pd.read_csv(\"crime_data_2019/2019-06-west-midlands-street.csv\")\n",
    "df7 = pd.read_csv(\"crime_data_2019/2019-07-west-midlands-street.csv\")\n",
    "df8 = pd.read_csv(\"crime_data_2019/2019-08-west-midlands-street.csv\")\n",
    "df9 = pd.read_csv(\"crime_data_2019/2019-09-west-midlands-street.csv\")\n",
    "df10 = pd.read_csv(\"crime_data_2019/2019-10-west-midlands-street.csv\")\n",
    "df11 = pd.read_csv(\"crime_data_2019/2019-11-west-midlands-street.csv\")\n",
    "df12 = pd.read_csv(\"crime_data_2019/2019-12-west-midlands-street.csv\")\n",
    "\n",
    "df_to_merge = [df1, df2, df3, df4, df5, df6, df7, df8, df9, df10, df11, df12]\n",
    "\n",
    "crime_2019_df = reduce(lambda  left,right: pd.merge(left,right, how='outer'), df_to_merge)\n",
    "\n",
    "crime_2019_df.head()"
   ]
  },
  {
   "cell_type": "markdown",
   "metadata": {},
   "source": [
    "## Cleaning data"
   ]
  },
  {
   "cell_type": "markdown",
   "metadata": {},
   "source": [
    "Viewing shape and contents of data"
   ]
  },
  {
   "cell_type": "code",
   "execution_count": 43,
   "metadata": {},
   "outputs": [
    {
     "data": {
      "text/plain": [
       "(296172, 12)"
      ]
     },
     "execution_count": 43,
     "metadata": {},
     "output_type": "execute_result"
    }
   ],
   "source": [
    "# Check data has been merged correctly by viewing shape of data\n",
    "crime_2019_df.shape"
   ]
  },
  {
   "cell_type": "code",
   "execution_count": 45,
   "metadata": {},
   "outputs": [
    {
     "data": {
      "text/plain": [
       "Index(['Crime ID', 'Month', 'Reported by', 'Falls within', 'Longitude',\n",
       "       'Latitude', 'Location', 'LSOA code', 'LSOA name', 'Crime type',\n",
       "       'Last outcome category', 'Context'],\n",
       "      dtype='object')"
      ]
     },
     "execution_count": 45,
     "metadata": {},
     "output_type": "execute_result"
    }
   ],
   "source": [
    "crime_2019_df.columns"
   ]
  },
  {
   "cell_type": "markdown",
   "metadata": {},
   "source": [
    "Checking missing values and duplicates"
   ]
  },
  {
   "cell_type": "code",
   "execution_count": 48,
   "metadata": {},
   "outputs": [
    {
     "name": "stdout",
     "output_type": "stream",
     "text": [
      "<class 'pandas.core.frame.DataFrame'>\n",
      "Int64Index: 296172 entries, 0 to 296171\n",
      "Data columns (total 12 columns):\n",
      " #   Column                 Non-Null Count   Dtype  \n",
      "---  ------                 --------------   -----  \n",
      " 0   Crime ID               259683 non-null  object \n",
      " 1   Month                  296172 non-null  object \n",
      " 2   Reported by            296172 non-null  object \n",
      " 3   Falls within           296172 non-null  object \n",
      " 4   Longitude              296172 non-null  float64\n",
      " 5   Latitude               296172 non-null  float64\n",
      " 6   Location               296172 non-null  object \n",
      " 7   LSOA code              296169 non-null  object \n",
      " 8   LSOA name              296169 non-null  object \n",
      " 9   Crime type             296172 non-null  object \n",
      " 10  Last outcome category  259683 non-null  object \n",
      " 11  Context                0 non-null       float64\n",
      "dtypes: float64(3), object(9)\n",
      "memory usage: 29.4+ MB\n"
     ]
    }
   ],
   "source": [
    "# Missing values\n",
    "crime_2019_df.info()"
   ]
  },
  {
   "cell_type": "code",
   "execution_count": 54,
   "metadata": {},
   "outputs": [
    {
     "data": {
      "text/plain": [
       "8649"
      ]
     },
     "execution_count": 54,
     "metadata": {},
     "output_type": "execute_result"
    }
   ],
   "source": [
    "# Duplicated values \n",
    "crime_2019_df.duplicated()\n",
    "boolean_series_of_duplicates = crime_2019_df.duplicated()\n",
    "len(crime_2019_df.loc[boolean_series_of_duplicates, :])"
   ]
  },
  {
   "cell_type": "code",
   "execution_count": 55,
   "metadata": {},
   "outputs": [
    {
     "data": {
      "text/plain": [
       "Crime ID                  36489\n",
       "Month                         0\n",
       "Reported by                   0\n",
       "Falls within                  0\n",
       "Longitude                     0\n",
       "Latitude                      0\n",
       "Location                      0\n",
       "LSOA code                     3\n",
       "LSOA name                     3\n",
       "Crime type                    0\n",
       "Last outcome category     36489\n",
       "Context                  296172\n",
       "dtype: int64"
      ]
     },
     "execution_count": 55,
     "metadata": {},
     "output_type": "execute_result"
    }
   ],
   "source": [
    "crime_2019_df.isnull().sum()"
   ]
  },
  {
   "cell_type": "markdown",
   "metadata": {},
   "source": [
    "This shows that the 'context' column has no values and can be dropped. We also do not need the 'Reported by', 'Falls within', and 'crime ID' and decided to use a numbered index instead."
   ]
  },
  {
   "cell_type": "code",
   "execution_count": 66,
   "metadata": {},
   "outputs": [],
   "source": [
    "# Drop columns \n",
    "clean_crime_2019 = crime_2019_df.drop([\"Crime ID\", \"Reported by\", \"Falls within\", \"Context\"], axis=1)"
   ]
  },
  {
   "cell_type": "code",
   "execution_count": 67,
   "metadata": {},
   "outputs": [],
   "source": [
    "# Fill in missing \n",
    "clean_crime_2019[\"Last outcome category\"] = clean_crime_2019[\"Last outcome category\"].fillna('No outcome recorded')"
   ]
  },
  {
   "cell_type": "code",
   "execution_count": 76,
   "metadata": {},
   "outputs": [
    {
     "data": {
      "text/html": [
       "<div>\n",
       "<style scoped>\n",
       "    .dataframe tbody tr th:only-of-type {\n",
       "        vertical-align: middle;\n",
       "    }\n",
       "\n",
       "    .dataframe tbody tr th {\n",
       "        vertical-align: top;\n",
       "    }\n",
       "\n",
       "    .dataframe thead th {\n",
       "        text-align: right;\n",
       "    }\n",
       "</style>\n",
       "<table border=\"1\" class=\"dataframe\">\n",
       "  <thead>\n",
       "    <tr style=\"text-align: right;\">\n",
       "      <th></th>\n",
       "      <th>Month</th>\n",
       "      <th>Longitude</th>\n",
       "      <th>Latitude</th>\n",
       "      <th>Location</th>\n",
       "      <th>LSOA code</th>\n",
       "      <th>LSOA name</th>\n",
       "      <th>Crime type</th>\n",
       "      <th>Last outcome category</th>\n",
       "    </tr>\n",
       "  </thead>\n",
       "  <tbody>\n",
       "    <tr>\n",
       "      <th>0</th>\n",
       "      <td>2019-01</td>\n",
       "      <td>-1.850519</td>\n",
       "      <td>52.589275</td>\n",
       "      <td>On or near Crown Lane</td>\n",
       "      <td>E01009417</td>\n",
       "      <td>Birmingham 001A</td>\n",
       "      <td>Burglary</td>\n",
       "      <td>Investigation complete; no suspect identified</td>\n",
       "    </tr>\n",
       "    <tr>\n",
       "      <th>1</th>\n",
       "      <td>2019-01</td>\n",
       "      <td>-1.850056</td>\n",
       "      <td>52.591108</td>\n",
       "      <td>On or near Walsall Road</td>\n",
       "      <td>E01009417</td>\n",
       "      <td>Birmingham 001A</td>\n",
       "      <td>Other theft</td>\n",
       "      <td>Investigation complete; no suspect identified</td>\n",
       "    </tr>\n",
       "    <tr>\n",
       "      <th>2</th>\n",
       "      <td>2019-01</td>\n",
       "      <td>-1.850772</td>\n",
       "      <td>52.588691</td>\n",
       "      <td>On or near Seymour Gardens</td>\n",
       "      <td>E01009417</td>\n",
       "      <td>Birmingham 001A</td>\n",
       "      <td>Public order</td>\n",
       "      <td>Investigation complete; no suspect identified</td>\n",
       "    </tr>\n",
       "    <tr>\n",
       "      <th>3</th>\n",
       "      <td>2019-01</td>\n",
       "      <td>-1.845780</td>\n",
       "      <td>52.593827</td>\n",
       "      <td>On or near Hook Drive</td>\n",
       "      <td>E01009418</td>\n",
       "      <td>Birmingham 001B</td>\n",
       "      <td>Anti-social behaviour</td>\n",
       "      <td>No outcome recorded</td>\n",
       "    </tr>\n",
       "    <tr>\n",
       "      <th>4</th>\n",
       "      <td>2019-01</td>\n",
       "      <td>-1.841944</td>\n",
       "      <td>52.597265</td>\n",
       "      <td>On or near Chelsea Drive</td>\n",
       "      <td>E01009418</td>\n",
       "      <td>Birmingham 001B</td>\n",
       "      <td>Vehicle crime</td>\n",
       "      <td>Investigation complete; no suspect identified</td>\n",
       "    </tr>\n",
       "  </tbody>\n",
       "</table>\n",
       "</div>"
      ],
      "text/plain": [
       "     Month  Longitude   Latitude                    Location  LSOA code  \\\n",
       "0  2019-01  -1.850519  52.589275       On or near Crown Lane  E01009417   \n",
       "1  2019-01  -1.850056  52.591108     On or near Walsall Road  E01009417   \n",
       "2  2019-01  -1.850772  52.588691  On or near Seymour Gardens  E01009417   \n",
       "3  2019-01  -1.845780  52.593827       On or near Hook Drive  E01009418   \n",
       "4  2019-01  -1.841944  52.597265    On or near Chelsea Drive  E01009418   \n",
       "\n",
       "         LSOA name             Crime type  \\\n",
       "0  Birmingham 001A               Burglary   \n",
       "1  Birmingham 001A            Other theft   \n",
       "2  Birmingham 001A           Public order   \n",
       "3  Birmingham 001B  Anti-social behaviour   \n",
       "4  Birmingham 001B          Vehicle crime   \n",
       "\n",
       "                           Last outcome category  \n",
       "0  Investigation complete; no suspect identified  \n",
       "1  Investigation complete; no suspect identified  \n",
       "2  Investigation complete; no suspect identified  \n",
       "3                            No outcome recorded  \n",
       "4  Investigation complete; no suspect identified  "
      ]
     },
     "execution_count": 76,
     "metadata": {},
     "output_type": "execute_result"
    }
   ],
   "source": [
    "# See clean DataFrame\n",
    "clean_crime_2019.head()"
   ]
  },
  {
   "cell_type": "markdown",
   "metadata": {},
   "source": [
    "## Visualising the data"
   ]
  },
  {
   "cell_type": "code",
   "execution_count": 74,
   "metadata": {},
   "outputs": [
    {
     "data": {
      "text/html": [
       "<div>\n",
       "<style scoped>\n",
       "    .dataframe tbody tr th:only-of-type {\n",
       "        vertical-align: middle;\n",
       "    }\n",
       "\n",
       "    .dataframe tbody tr th {\n",
       "        vertical-align: top;\n",
       "    }\n",
       "\n",
       "    .dataframe thead th {\n",
       "        text-align: right;\n",
       "    }\n",
       "</style>\n",
       "<table border=\"1\" class=\"dataframe\">\n",
       "  <thead>\n",
       "    <tr style=\"text-align: right;\">\n",
       "      <th>Crime type</th>\n",
       "      <th>Anti-social behaviour</th>\n",
       "      <th>Bicycle theft</th>\n",
       "      <th>Burglary</th>\n",
       "      <th>Criminal damage and arson</th>\n",
       "      <th>Drugs</th>\n",
       "      <th>Other crime</th>\n",
       "      <th>Other theft</th>\n",
       "      <th>Possession of weapons</th>\n",
       "      <th>Public order</th>\n",
       "      <th>Robbery</th>\n",
       "      <th>Shoplifting</th>\n",
       "      <th>Theft from the person</th>\n",
       "      <th>Vehicle crime</th>\n",
       "      <th>Violence and sexual offences</th>\n",
       "    </tr>\n",
       "  </thead>\n",
       "  <tbody>\n",
       "    <tr>\n",
       "      <th>LSOA code</th>\n",
       "      <td>36489</td>\n",
       "      <td>2466</td>\n",
       "      <td>24994</td>\n",
       "      <td>24924</td>\n",
       "      <td>5643</td>\n",
       "      <td>4302</td>\n",
       "      <td>20755</td>\n",
       "      <td>3027</td>\n",
       "      <td>16954</td>\n",
       "      <td>8793</td>\n",
       "      <td>16362</td>\n",
       "      <td>3064</td>\n",
       "      <td>32437</td>\n",
       "      <td>95959</td>\n",
       "    </tr>\n",
       "    <tr>\n",
       "      <th>LSOA name</th>\n",
       "      <td>36489</td>\n",
       "      <td>2466</td>\n",
       "      <td>24994</td>\n",
       "      <td>24924</td>\n",
       "      <td>5643</td>\n",
       "      <td>4302</td>\n",
       "      <td>20755</td>\n",
       "      <td>3027</td>\n",
       "      <td>16954</td>\n",
       "      <td>8793</td>\n",
       "      <td>16362</td>\n",
       "      <td>3064</td>\n",
       "      <td>32437</td>\n",
       "      <td>95959</td>\n",
       "    </tr>\n",
       "    <tr>\n",
       "      <th>Last outcome category</th>\n",
       "      <td>36489</td>\n",
       "      <td>2466</td>\n",
       "      <td>24994</td>\n",
       "      <td>24925</td>\n",
       "      <td>5643</td>\n",
       "      <td>4302</td>\n",
       "      <td>20756</td>\n",
       "      <td>3027</td>\n",
       "      <td>16954</td>\n",
       "      <td>8793</td>\n",
       "      <td>16362</td>\n",
       "      <td>3064</td>\n",
       "      <td>32438</td>\n",
       "      <td>95959</td>\n",
       "    </tr>\n",
       "    <tr>\n",
       "      <th>Latitude</th>\n",
       "      <td>36489</td>\n",
       "      <td>2466</td>\n",
       "      <td>24994</td>\n",
       "      <td>24925</td>\n",
       "      <td>5643</td>\n",
       "      <td>4302</td>\n",
       "      <td>20756</td>\n",
       "      <td>3027</td>\n",
       "      <td>16954</td>\n",
       "      <td>8793</td>\n",
       "      <td>16362</td>\n",
       "      <td>3064</td>\n",
       "      <td>32438</td>\n",
       "      <td>95959</td>\n",
       "    </tr>\n",
       "    <tr>\n",
       "      <th>Location</th>\n",
       "      <td>36489</td>\n",
       "      <td>2466</td>\n",
       "      <td>24994</td>\n",
       "      <td>24925</td>\n",
       "      <td>5643</td>\n",
       "      <td>4302</td>\n",
       "      <td>20756</td>\n",
       "      <td>3027</td>\n",
       "      <td>16954</td>\n",
       "      <td>8793</td>\n",
       "      <td>16362</td>\n",
       "      <td>3064</td>\n",
       "      <td>32438</td>\n",
       "      <td>95959</td>\n",
       "    </tr>\n",
       "    <tr>\n",
       "      <th>Longitude</th>\n",
       "      <td>36489</td>\n",
       "      <td>2466</td>\n",
       "      <td>24994</td>\n",
       "      <td>24925</td>\n",
       "      <td>5643</td>\n",
       "      <td>4302</td>\n",
       "      <td>20756</td>\n",
       "      <td>3027</td>\n",
       "      <td>16954</td>\n",
       "      <td>8793</td>\n",
       "      <td>16362</td>\n",
       "      <td>3064</td>\n",
       "      <td>32438</td>\n",
       "      <td>95959</td>\n",
       "    </tr>\n",
       "    <tr>\n",
       "      <th>Month</th>\n",
       "      <td>36489</td>\n",
       "      <td>2466</td>\n",
       "      <td>24994</td>\n",
       "      <td>24925</td>\n",
       "      <td>5643</td>\n",
       "      <td>4302</td>\n",
       "      <td>20756</td>\n",
       "      <td>3027</td>\n",
       "      <td>16954</td>\n",
       "      <td>8793</td>\n",
       "      <td>16362</td>\n",
       "      <td>3064</td>\n",
       "      <td>32438</td>\n",
       "      <td>95959</td>\n",
       "    </tr>\n",
       "  </tbody>\n",
       "</table>\n",
       "</div>"
      ],
      "text/plain": [
       "Crime type             Anti-social behaviour  Bicycle theft  Burglary  \\\n",
       "LSOA code                              36489           2466     24994   \n",
       "LSOA name                              36489           2466     24994   \n",
       "Last outcome category                  36489           2466     24994   \n",
       "Latitude                               36489           2466     24994   \n",
       "Location                               36489           2466     24994   \n",
       "Longitude                              36489           2466     24994   \n",
       "Month                                  36489           2466     24994   \n",
       "\n",
       "Crime type             Criminal damage and arson  Drugs  Other crime  \\\n",
       "LSOA code                                  24924   5643         4302   \n",
       "LSOA name                                  24924   5643         4302   \n",
       "Last outcome category                      24925   5643         4302   \n",
       "Latitude                                   24925   5643         4302   \n",
       "Location                                   24925   5643         4302   \n",
       "Longitude                                  24925   5643         4302   \n",
       "Month                                      24925   5643         4302   \n",
       "\n",
       "Crime type             Other theft  Possession of weapons  Public order  \\\n",
       "LSOA code                    20755                   3027         16954   \n",
       "LSOA name                    20755                   3027         16954   \n",
       "Last outcome category        20756                   3027         16954   \n",
       "Latitude                     20756                   3027         16954   \n",
       "Location                     20756                   3027         16954   \n",
       "Longitude                    20756                   3027         16954   \n",
       "Month                        20756                   3027         16954   \n",
       "\n",
       "Crime type             Robbery  Shoplifting  Theft from the person  \\\n",
       "LSOA code                 8793        16362                   3064   \n",
       "LSOA name                 8793        16362                   3064   \n",
       "Last outcome category     8793        16362                   3064   \n",
       "Latitude                  8793        16362                   3064   \n",
       "Location                  8793        16362                   3064   \n",
       "Longitude                 8793        16362                   3064   \n",
       "Month                     8793        16362                   3064   \n",
       "\n",
       "Crime type             Vehicle crime  Violence and sexual offences  \n",
       "LSOA code                      32437                         95959  \n",
       "LSOA name                      32437                         95959  \n",
       "Last outcome category          32438                         95959  \n",
       "Latitude                       32438                         95959  \n",
       "Location                       32438                         95959  \n",
       "Longitude                      32438                         95959  \n",
       "Month                          32438                         95959  "
      ]
     },
     "execution_count": 74,
     "metadata": {},
     "output_type": "execute_result"
    }
   ],
   "source": [
    "# Pivot table\n",
    "pd.pivot_table(clean_crime_2019, columns=\"Crime type\", aggfunc=\"count\")"
   ]
  },
  {
   "cell_type": "code",
   "execution_count": null,
   "metadata": {},
   "outputs": [],
   "source": []
  },
  {
   "cell_type": "code",
   "execution_count": null,
   "metadata": {},
   "outputs": [],
   "source": []
  },
  {
   "cell_type": "code",
   "execution_count": null,
   "metadata": {},
   "outputs": [],
   "source": []
  }
 ],
 "metadata": {
  "kernelspec": {
   "display_name": "Python 3 (ipykernel)",
   "language": "python",
   "name": "python3"
  },
  "language_info": {
   "codemirror_mode": {
    "name": "ipython",
    "version": 3
   },
   "file_extension": ".py",
   "mimetype": "text/x-python",
   "name": "python",
   "nbconvert_exporter": "python",
   "pygments_lexer": "ipython3",
   "version": "3.7.11"
  }
 },
 "nbformat": 4,
 "nbformat_minor": 4
}
