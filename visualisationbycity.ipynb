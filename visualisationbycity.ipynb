{
 "cells": [
  {
   "cell_type": "code",
   "execution_count": 21,
   "id": "8a137b63",
   "metadata": {},
   "outputs": [],
   "source": [
    "#import the pandas library!\n",
    "import pandas as pd\n"
   ]
  },
  {
   "cell_type": "code",
   "execution_count": 22,
   "id": "47230a01",
   "metadata": {},
   "outputs": [],
   "source": [
    "datafile = \"heatmap_test/clean_2019_4.csv\""
   ]
  },
  {
   "cell_type": "code",
   "execution_count": 23,
   "id": "fa4f77b5",
   "metadata": {},
   "outputs": [],
   "source": [
    "datafile_df = pd.read_csv(datafile, encoding=\"ISO-8859-1\")"
   ]
  },
  {
   "cell_type": "code",
   "execution_count": 26,
   "id": "2813d334",
   "metadata": {},
   "outputs": [
    {
     "data": {
      "text/html": [
       "<div>\n",
       "<style scoped>\n",
       "    .dataframe tbody tr th:only-of-type {\n",
       "        vertical-align: middle;\n",
       "    }\n",
       "\n",
       "    .dataframe tbody tr th {\n",
       "        vertical-align: top;\n",
       "    }\n",
       "\n",
       "    .dataframe thead th {\n",
       "        text-align: right;\n",
       "    }\n",
       "</style>\n",
       "<table border=\"1\" class=\"dataframe\">\n",
       "  <thead>\n",
       "    <tr style=\"text-align: right;\">\n",
       "      <th></th>\n",
       "      <th>Crime ID</th>\n",
       "      <th>Crime type</th>\n",
       "      <th>Last outcome category</th>\n",
       "      <th>Month</th>\n",
       "      <th>Longitude</th>\n",
       "      <th>Latitude</th>\n",
       "      <th>Location</th>\n",
       "      <th>LSOA code</th>\n",
       "      <th>LSOA name</th>\n",
       "      <th>LONG__y</th>\n",
       "      <th>...</th>\n",
       "      <th>LSOA IMD Rank_y</th>\n",
       "      <th>LSOA Income Rank_y</th>\n",
       "      <th>District code (2019)</th>\n",
       "      <th>District name (2019)</th>\n",
       "      <th>Description</th>\n",
       "      <th>Population</th>\n",
       "      <th>Index of Multiple Deprivation (IMD)</th>\n",
       "      <th>Income deprivation- Average score</th>\n",
       "      <th>Income deprivation - Rank of average score</th>\n",
       "      <th>Income - Rank of proportion of LSOAs in most deprived 10% nationally</th>\n",
       "    </tr>\n",
       "  </thead>\n",
       "  <tbody>\n",
       "    <tr>\n",
       "      <th>0</th>\n",
       "      <td>b0854078f33cc4e2ecd7353c40d3a03120063e7d39134b...</td>\n",
       "      <td>Burglary</td>\n",
       "      <td>Investigation complete; no suspect identified</td>\n",
       "      <td>2019-01</td>\n",
       "      <td>-1.850519</td>\n",
       "      <td>52.589275</td>\n",
       "      <td>On or near Crown Lane</td>\n",
       "      <td>E01009417</td>\n",
       "      <td>Birmingham 001A</td>\n",
       "      <td>-1.84982</td>\n",
       "      <td>...</td>\n",
       "      <td>21433</td>\n",
       "      <td>18278</td>\n",
       "      <td>E08000025</td>\n",
       "      <td>Birmingham</td>\n",
       "      <td>Urban with Major Conurbation</td>\n",
       "      <td>1073045.0</td>\n",
       "      <td>7</td>\n",
       "      <td>0.222</td>\n",
       "      <td>7</td>\n",
       "      <td>5</td>\n",
       "    </tr>\n",
       "    <tr>\n",
       "      <th>1</th>\n",
       "      <td>b48f19d1ca24bd7e1ef53952c1472314c1af57240df6d5...</td>\n",
       "      <td>Other theft</td>\n",
       "      <td>Investigation complete; no suspect identified</td>\n",
       "      <td>2019-01</td>\n",
       "      <td>-1.850056</td>\n",
       "      <td>52.591108</td>\n",
       "      <td>On or near Walsall Road</td>\n",
       "      <td>E01009417</td>\n",
       "      <td>Birmingham 001A</td>\n",
       "      <td>-1.84982</td>\n",
       "      <td>...</td>\n",
       "      <td>21433</td>\n",
       "      <td>18278</td>\n",
       "      <td>E08000025</td>\n",
       "      <td>Birmingham</td>\n",
       "      <td>Urban with Major Conurbation</td>\n",
       "      <td>1073045.0</td>\n",
       "      <td>7</td>\n",
       "      <td>0.222</td>\n",
       "      <td>7</td>\n",
       "      <td>5</td>\n",
       "    </tr>\n",
       "  </tbody>\n",
       "</table>\n",
       "<p>2 rows × 22 columns</p>\n",
       "</div>"
      ],
      "text/plain": [
       "                                            Crime ID   Crime type  \\\n",
       "0  b0854078f33cc4e2ecd7353c40d3a03120063e7d39134b...     Burglary   \n",
       "1  b48f19d1ca24bd7e1ef53952c1472314c1af57240df6d5...  Other theft   \n",
       "\n",
       "                           Last outcome category    Month  Longitude  \\\n",
       "0  Investigation complete; no suspect identified  2019-01  -1.850519   \n",
       "1  Investigation complete; no suspect identified  2019-01  -1.850056   \n",
       "\n",
       "    Latitude                 Location  LSOA code        LSOA name  LONG__y  \\\n",
       "0  52.589275    On or near Crown Lane  E01009417  Birmingham 001A -1.84982   \n",
       "1  52.591108  On or near Walsall Road  E01009417  Birmingham 001A -1.84982   \n",
       "\n",
       "   ...  LSOA IMD Rank_y  LSOA Income Rank_y  District code (2019)  \\\n",
       "0  ...            21433               18278             E08000025   \n",
       "1  ...            21433               18278             E08000025   \n",
       "\n",
       "   District name (2019)                   Description Population  \\\n",
       "0            Birmingham  Urban with Major Conurbation  1073045.0   \n",
       "1            Birmingham  Urban with Major Conurbation  1073045.0   \n",
       "\n",
       "  Index of Multiple Deprivation (IMD)  Income deprivation- Average score   \\\n",
       "0                                   7                               0.222   \n",
       "1                                   7                               0.222   \n",
       "\n",
       "   Income deprivation - Rank of average score   \\\n",
       "0                                            7   \n",
       "1                                            7   \n",
       "\n",
       "   Income - Rank of proportion of LSOAs in most deprived 10% nationally   \n",
       "0                                                  5                      \n",
       "1                                                  5                      \n",
       "\n",
       "[2 rows x 22 columns]"
      ]
     },
     "execution_count": 26,
     "metadata": {},
     "output_type": "execute_result"
    }
   ],
   "source": [
    "datafile_df.head(2)"
   ]
  },
  {
   "cell_type": "code",
   "execution_count": 35,
   "id": "eb58e311",
   "metadata": {},
   "outputs": [
    {
     "data": {
      "text/plain": [
       "Violence and sexual offences    95776\n",
       "Anti-social behaviour           36454\n",
       "Vehicle crime                   32334\n",
       "Burglary                        24945\n",
       "Criminal damage and arson       24872\n",
       "Other theft                     20692\n",
       "Public order                    16925\n",
       "Shoplifting                     16314\n",
       "Robbery                          8772\n",
       "Drugs                            5639\n",
       "Other crime                      4297\n",
       "Theft from the person            3052\n",
       "Possession of weapons            3022\n",
       "Bicycle theft                    2447\n",
       "Name: Crime type, dtype: int64"
      ]
     },
     "execution_count": 35,
     "metadata": {},
     "output_type": "execute_result"
    }
   ],
   "source": [
    "datafile_df[\"Crime type\"].value_counts()"
   ]
  },
  {
   "cell_type": "code",
   "execution_count": 42,
   "id": "ad2377e9",
   "metadata": {},
   "outputs": [
    {
     "data": {
      "text/plain": [
       "Birmingham       130172\n",
       "Coventry          32957\n",
       "Sandwell          32282\n",
       "Wolverhampton     27921\n",
       "Walsall           27862\n",
       "Dudley            26491\n",
       "Solihull          17856\n",
       "Name: District name (2019), dtype: int64"
      ]
     },
     "execution_count": 42,
     "metadata": {},
     "output_type": "execute_result"
    }
   ],
   "source": [
    "#Total number of crimes per District\n",
    "datafile_df[\"District name (2019)\"].value_counts()"
   ]
  },
  {
   "cell_type": "code",
   "execution_count": null,
   "id": "23e2b718",
   "metadata": {},
   "outputs": [],
   "source": []
  },
  {
   "cell_type": "code",
   "execution_count": 50,
   "id": "d8753ea3",
   "metadata": {},
   "outputs": [
    {
     "data": {
      "text/plain": [
       "Violence and sexual offences    42331\n",
       "Anti-social behaviour           15800\n",
       "Vehicle crime                   13428\n",
       "Burglary                        10635\n",
       "Criminal damage and arson       10305\n",
       "Other theft                      9603\n",
       "Public order                     7932\n",
       "Shoplifting                      6196\n",
       "Robbery                          4917\n",
       "Drugs                            2885\n",
       "Theft from the person            1856\n",
       "Other crime                      1785\n",
       "Possession of weapons            1446\n",
       "Bicycle theft                    1053\n",
       "Name: Crime type, dtype: int64"
      ]
     },
     "execution_count": 50,
     "metadata": {},
     "output_type": "execute_result"
    }
   ],
   "source": [
    "# Created a new DataFrame that looks into a Birmingham\n",
    "Birmingham_crime_df = datafile_df.loc[datafile_df[\"District name (2019)\"] == \"Birmingham\"]\n",
    "Birmingham_crime_df[\"Crime type\"].value_counts()"
   ]
  },
  {
   "cell_type": "code",
   "execution_count": null,
   "id": "4f796ebc",
   "metadata": {},
   "outputs": [],
   "source": []
  },
  {
   "cell_type": "code",
   "execution_count": 56,
   "id": "cd5f2646",
   "metadata": {},
   "outputs": [
    {
     "data": {
      "text/plain": [
       "1     61720\n",
       "2     19834\n",
       "3     18466\n",
       "4     13474\n",
       "5      8013\n",
       "7      3140\n",
       "6      2952\n",
       "8      1297\n",
       "9       922\n",
       "10      354\n",
       "Name: Index of Multiple Deprivation (IMD), dtype: int64"
      ]
     },
     "execution_count": 56,
     "metadata": {},
     "output_type": "execute_result"
    }
   ],
   "source": [
    "#Display income deprivation and IMD\n",
    "\n",
    "Birmingham_IMD = datafile_df.loc[datafile_df[\"District name (2019)\"] == \"Birmingham\"]\n",
    "                    \n",
    "Birmingham_IMD[\"Index of Multiple Deprivation (IMD)\"].value_counts()"
   ]
  },
  {
   "cell_type": "code",
   "execution_count": 52,
   "id": "b344c1db",
   "metadata": {},
   "outputs": [
    {
     "data": {
      "text/plain": [
       "Violence and sexual offences    9978\n",
       "Anti-social behaviour           4568\n",
       "Vehicle crime                   3949\n",
       "Criminal damage and arson       2982\n",
       "Burglary                        2841\n",
       "Other theft                     2209\n",
       "Shoplifting                     1826\n",
       "Public order                    1594\n",
       "Robbery                          920\n",
       "Bicycle theft                    572\n",
       "Drugs                            515\n",
       "Other crime                      427\n",
       "Possession of weapons            304\n",
       "Theft from the person            272\n",
       "Name: Crime type, dtype: int64"
      ]
     },
     "execution_count": 52,
     "metadata": {},
     "output_type": "execute_result"
    }
   ],
   "source": [
    "Coventry_crime_df = datafile_df.loc[datafile_df[\"District name (2019)\"] == \"Coventry\"]\n",
    "Coventry_crime_df[\"Crime type\"].value_counts()"
   ]
  },
  {
   "cell_type": "code",
   "execution_count": null,
   "id": "3505994c",
   "metadata": {},
   "outputs": [],
   "source": [
    "#Display income deprivation and IMD\n",
    "\n"
   ]
  },
  {
   "cell_type": "code",
   "execution_count": 45,
   "id": "11e96550",
   "metadata": {},
   "outputs": [
    {
     "data": {
      "text/plain": [
       "Violence and sexual offences    10997\n",
       "Anti-social behaviour            3796\n",
       "Vehicle crime                    3318\n",
       "Burglary                         2965\n",
       "Criminal damage and arson        2813\n",
       "Other theft                      2151\n",
       "Shoplifting                      1832\n",
       "Public order                     1823\n",
       "Robbery                           794\n",
       "Drugs                             700\n",
       "Other crime                       471\n",
       "Possession of weapons             278\n",
       "Theft from the person             212\n",
       "Bicycle theft                     132\n",
       "Name: Crime type, dtype: int64"
      ]
     },
     "execution_count": 45,
     "metadata": {},
     "output_type": "execute_result"
    }
   ],
   "source": [
    "Sandwell_crime_df = datafile_df.loc[datafile_df[\"District name (2019)\"] == \"Sandwell\"]\n",
    "Sandwell_crime_df[\"Crime type\"].value_counts()"
   ]
  },
  {
   "cell_type": "code",
   "execution_count": null,
   "id": "c8fbe523",
   "metadata": {},
   "outputs": [],
   "source": [
    "#Display income deprivation and IMD\n",
    "\n"
   ]
  },
  {
   "cell_type": "code",
   "execution_count": 46,
   "id": "d70b2820",
   "metadata": {},
   "outputs": [
    {
     "data": {
      "text/plain": [
       "Violence and sexual offences    9823\n",
       "Anti-social behaviour           3079\n",
       "Vehicle crime                   2984\n",
       "Criminal damage and arson       2329\n",
       "Burglary                        2059\n",
       "Other theft                     1805\n",
       "Shoplifting                     1768\n",
       "Public order                    1708\n",
       "Robbery                          555\n",
       "Drugs                            545\n",
       "Other crime                      499\n",
       "Possession of weapons            269\n",
       "Bicycle theft                    252\n",
       "Theft from the person            246\n",
       "Name: Crime type, dtype: int64"
      ]
     },
     "execution_count": 46,
     "metadata": {},
     "output_type": "execute_result"
    }
   ],
   "source": [
    "Wolverhampton_crime_df = datafile_df.loc[datafile_df[\"District name (2019)\"] == \"Wolverhampton\"]\n",
    "Wolverhampton_crime_df[\"Crime type\"].value_counts()"
   ]
  },
  {
   "cell_type": "code",
   "execution_count": null,
   "id": "c66f6a51",
   "metadata": {},
   "outputs": [],
   "source": [
    "#Display income deprivation and IMD\n",
    "\n"
   ]
  },
  {
   "cell_type": "code",
   "execution_count": 47,
   "id": "d3737522",
   "metadata": {},
   "outputs": [
    {
     "data": {
      "text/plain": [
       "Violence and sexual offences    9032\n",
       "Anti-social behaviour           3869\n",
       "Vehicle crime                   3062\n",
       "Criminal damage and arson       2706\n",
       "Burglary                        2169\n",
       "Other theft                     1721\n",
       "Shoplifting                     1646\n",
       "Public order                    1544\n",
       "Robbery                          591\n",
       "Other crime                      458\n",
       "Drugs                            433\n",
       "Possession of weapons            249\n",
       "Bicycle theft                    198\n",
       "Theft from the person            184\n",
       "Name: Crime type, dtype: int64"
      ]
     },
     "execution_count": 47,
     "metadata": {},
     "output_type": "execute_result"
    }
   ],
   "source": [
    "Walsall_crime_df = datafile_df.loc[datafile_df[\"District name (2019)\"] == \"Walsall\"]\n",
    "Walsall_crime_df[\"Crime type\"].value_counts()"
   ]
  },
  {
   "cell_type": "code",
   "execution_count": null,
   "id": "8c129aac",
   "metadata": {},
   "outputs": [],
   "source": [
    "#Display income deprivation and IMD\n",
    "\n"
   ]
  },
  {
   "cell_type": "code",
   "execution_count": 48,
   "id": "a61694b5",
   "metadata": {},
   "outputs": [
    {
     "data": {
      "text/plain": [
       "Violence and sexual offences    8840\n",
       "Anti-social behaviour           3253\n",
       "Vehicle crime                   2997\n",
       "Burglary                        2462\n",
       "Criminal damage and arson       2419\n",
       "Shoplifting                     1755\n",
       "Other theft                     1589\n",
       "Public order                    1421\n",
       "Robbery                          535\n",
       "Other crime                      409\n",
       "Drugs                            339\n",
       "Possession of weapons            247\n",
       "Theft from the person            145\n",
       "Bicycle theft                     80\n",
       "Name: Crime type, dtype: int64"
      ]
     },
     "execution_count": 48,
     "metadata": {},
     "output_type": "execute_result"
    }
   ],
   "source": [
    "Dudley_crime_df = datafile_df.loc[datafile_df[\"District name (2019)\"] == \"Dudley\"]\n",
    "Dudley_crime_df[\"Crime type\"].value_counts()"
   ]
  },
  {
   "cell_type": "code",
   "execution_count": null,
   "id": "b1ecc463",
   "metadata": {},
   "outputs": [],
   "source": [
    "#Display income deprivation and IMD\n",
    "\n"
   ]
  },
  {
   "cell_type": "code",
   "execution_count": 49,
   "id": "9a9c0a3c",
   "metadata": {},
   "outputs": [
    {
     "data": {
      "text/plain": [
       "Violence and sexual offences    4775\n",
       "Vehicle crime                   2596\n",
       "Anti-social behaviour           2089\n",
       "Burglary                        1814\n",
       "Other theft                     1614\n",
       "Criminal damage and arson       1318\n",
       "Shoplifting                     1291\n",
       "Public order                     903\n",
       "Robbery                          460\n",
       "Other crime                      248\n",
       "Possession of weapons            229\n",
       "Drugs                            222\n",
       "Bicycle theft                    160\n",
       "Theft from the person            137\n",
       "Name: Crime type, dtype: int64"
      ]
     },
     "execution_count": 49,
     "metadata": {},
     "output_type": "execute_result"
    }
   ],
   "source": [
    "Solihull_crime_df = datafile_df.loc[datafile_df[\"District name (2019)\"] == \"Solihull\"]\n",
    "Solihull_crime_df[\"Crime type\"].value_counts()"
   ]
  },
  {
   "cell_type": "code",
   "execution_count": null,
   "id": "fe6b5b0f",
   "metadata": {},
   "outputs": [],
   "source": [
    "#Display income deprivation and IMD\n"
   ]
  },
  {
   "cell_type": "code",
   "execution_count": null,
   "id": "f2a60a58",
   "metadata": {},
   "outputs": [],
   "source": [
    "#Plot the different crimes per city over the time period"
   ]
  },
  {
   "cell_type": "code",
   "execution_count": null,
   "id": "803e98cd",
   "metadata": {},
   "outputs": [],
   "source": []
  }
 ],
 "metadata": {
  "kernelspec": {
   "display_name": "Python 3 (ipykernel)",
   "language": "python",
   "name": "python3"
  },
  "language_info": {
   "codemirror_mode": {
    "name": "ipython",
    "version": 3
   },
   "file_extension": ".py",
   "mimetype": "text/x-python",
   "name": "python",
   "nbconvert_exporter": "python",
   "pygments_lexer": "ipython3",
   "version": "3.7.11"
  }
 },
 "nbformat": 4,
 "nbformat_minor": 5
}
